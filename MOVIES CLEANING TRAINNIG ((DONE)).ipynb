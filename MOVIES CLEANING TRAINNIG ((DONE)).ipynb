{
 "cells": [
  {
   "cell_type": "code",
   "execution_count": 1,
   "id": "61329400",
   "metadata": {},
   "outputs": [],
   "source": [
    "import pandas as pd\n",
    "import numpy as np\n",
    "import seaborn as sns\n",
    "import matplotlib.pyplot as plt\n",
    "from scipy import stats"
   ]
  },
  {
   "cell_type": "code",
   "execution_count": 2,
   "id": "96c5cc6d",
   "metadata": {},
   "outputs": [
    {
     "data": {
      "text/html": [
       "<div>\n",
       "<style scoped>\n",
       "    .dataframe tbody tr th:only-of-type {\n",
       "        vertical-align: middle;\n",
       "    }\n",
       "\n",
       "    .dataframe tbody tr th {\n",
       "        vertical-align: top;\n",
       "    }\n",
       "\n",
       "    .dataframe thead th {\n",
       "        text-align: right;\n",
       "    }\n",
       "</style>\n",
       "<table border=\"1\" class=\"dataframe\">\n",
       "  <thead>\n",
       "    <tr style=\"text-align: right;\">\n",
       "      <th></th>\n",
       "      <th>MOVIES</th>\n",
       "      <th>YEAR</th>\n",
       "      <th>GENRE</th>\n",
       "      <th>RATING</th>\n",
       "      <th>ONE-LINE</th>\n",
       "      <th>STARS</th>\n",
       "      <th>VOTES</th>\n",
       "      <th>RunTime</th>\n",
       "      <th>Gross</th>\n",
       "    </tr>\n",
       "  </thead>\n",
       "  <tbody>\n",
       "    <tr>\n",
       "      <th>0</th>\n",
       "      <td>Blood Red Sky</td>\n",
       "      <td>(2021)</td>\n",
       "      <td>\\nAction, Horror, Thriller</td>\n",
       "      <td>6.1</td>\n",
       "      <td>\\nA woman with a mysterious illness is forced ...</td>\n",
       "      <td>\\n    Director:\\nPeter Thorwarth\\n| \\n    Star...</td>\n",
       "      <td>21,062</td>\n",
       "      <td>121.0</td>\n",
       "      <td>NaN</td>\n",
       "    </tr>\n",
       "    <tr>\n",
       "      <th>1</th>\n",
       "      <td>Masters of the Universe: Revelation</td>\n",
       "      <td>(2021– )</td>\n",
       "      <td>\\nAnimation, Action, Adventure</td>\n",
       "      <td>5.0</td>\n",
       "      <td>\\nThe war for Eternia begins again in what may...</td>\n",
       "      <td>\\n            \\n    Stars:\\nChris Wood, \\nSara...</td>\n",
       "      <td>17,870</td>\n",
       "      <td>25.0</td>\n",
       "      <td>NaN</td>\n",
       "    </tr>\n",
       "    <tr>\n",
       "      <th>2</th>\n",
       "      <td>The Walking Dead</td>\n",
       "      <td>(2010–2022)</td>\n",
       "      <td>\\nDrama, Horror, Thriller</td>\n",
       "      <td>8.2</td>\n",
       "      <td>\\nSheriff Deputy Rick Grimes wakes up from a c...</td>\n",
       "      <td>\\n            \\n    Stars:\\nAndrew Lincoln, \\n...</td>\n",
       "      <td>885,805</td>\n",
       "      <td>44.0</td>\n",
       "      <td>NaN</td>\n",
       "    </tr>\n",
       "    <tr>\n",
       "      <th>3</th>\n",
       "      <td>Rick and Morty</td>\n",
       "      <td>(2013– )</td>\n",
       "      <td>\\nAnimation, Adventure, Comedy</td>\n",
       "      <td>9.2</td>\n",
       "      <td>\\nAn animated series that follows the exploits...</td>\n",
       "      <td>\\n            \\n    Stars:\\nJustin Roiland, \\n...</td>\n",
       "      <td>414,849</td>\n",
       "      <td>23.0</td>\n",
       "      <td>NaN</td>\n",
       "    </tr>\n",
       "    <tr>\n",
       "      <th>4</th>\n",
       "      <td>Army of Thieves</td>\n",
       "      <td>(2021)</td>\n",
       "      <td>\\nAction, Crime, Horror</td>\n",
       "      <td>NaN</td>\n",
       "      <td>\\nA prequel, set before the events of Army of ...</td>\n",
       "      <td>\\n    Director:\\nMatthias Schweighöfer\\n| \\n  ...</td>\n",
       "      <td>NaN</td>\n",
       "      <td>NaN</td>\n",
       "      <td>NaN</td>\n",
       "    </tr>\n",
       "  </tbody>\n",
       "</table>\n",
       "</div>"
      ],
      "text/plain": [
       "                                MOVIES         YEAR  \\\n",
       "0                        Blood Red Sky       (2021)   \n",
       "1  Masters of the Universe: Revelation     (2021– )   \n",
       "2                     The Walking Dead  (2010–2022)   \n",
       "3                       Rick and Morty     (2013– )   \n",
       "4                      Army of Thieves       (2021)   \n",
       "\n",
       "                                        GENRE  RATING  \\\n",
       "0      \\nAction, Horror, Thriller                 6.1   \n",
       "1  \\nAnimation, Action, Adventure                 5.0   \n",
       "2       \\nDrama, Horror, Thriller                 8.2   \n",
       "3  \\nAnimation, Adventure, Comedy                 9.2   \n",
       "4         \\nAction, Crime, Horror                 NaN   \n",
       "\n",
       "                                            ONE-LINE  \\\n",
       "0  \\nA woman with a mysterious illness is forced ...   \n",
       "1  \\nThe war for Eternia begins again in what may...   \n",
       "2  \\nSheriff Deputy Rick Grimes wakes up from a c...   \n",
       "3  \\nAn animated series that follows the exploits...   \n",
       "4  \\nA prequel, set before the events of Army of ...   \n",
       "\n",
       "                                               STARS    VOTES  RunTime Gross  \n",
       "0  \\n    Director:\\nPeter Thorwarth\\n| \\n    Star...   21,062    121.0   NaN  \n",
       "1  \\n            \\n    Stars:\\nChris Wood, \\nSara...   17,870     25.0   NaN  \n",
       "2  \\n            \\n    Stars:\\nAndrew Lincoln, \\n...  885,805     44.0   NaN  \n",
       "3  \\n            \\n    Stars:\\nJustin Roiland, \\n...  414,849     23.0   NaN  \n",
       "4  \\n    Director:\\nMatthias Schweighöfer\\n| \\n  ...      NaN      NaN   NaN  "
      ]
     },
     "execution_count": 2,
     "metadata": {},
     "output_type": "execute_result"
    }
   ],
   "source": [
    "df=pd.read_csv('movies.csv')\n",
    "df.head()"
   ]
  },
  {
   "cell_type": "code",
   "execution_count": 3,
   "id": "0e11f471",
   "metadata": {},
   "outputs": [
    {
     "data": {
      "text/html": [
       "<div>\n",
       "<style scoped>\n",
       "    .dataframe tbody tr th:only-of-type {\n",
       "        vertical-align: middle;\n",
       "    }\n",
       "\n",
       "    .dataframe tbody tr th {\n",
       "        vertical-align: top;\n",
       "    }\n",
       "\n",
       "    .dataframe thead th {\n",
       "        text-align: right;\n",
       "    }\n",
       "</style>\n",
       "<table border=\"1\" class=\"dataframe\">\n",
       "  <thead>\n",
       "    <tr style=\"text-align: right;\">\n",
       "      <th></th>\n",
       "      <th>MOVIES</th>\n",
       "      <th>YEAR</th>\n",
       "      <th>GENRE</th>\n",
       "      <th>RATING</th>\n",
       "      <th>ONE-LINE</th>\n",
       "      <th>STARS</th>\n",
       "      <th>VOTES</th>\n",
       "      <th>RunTime</th>\n",
       "      <th>Gross</th>\n",
       "    </tr>\n",
       "  </thead>\n",
       "  <tbody>\n",
       "    <tr>\n",
       "      <th>9994</th>\n",
       "      <td>The Imperfects</td>\n",
       "      <td>(2021– )</td>\n",
       "      <td>\\nAdventure, Drama, Fantasy</td>\n",
       "      <td>NaN</td>\n",
       "      <td>\\nAdd a Plot\\n</td>\n",
       "      <td>\\n            \\n    Stars:\\nMorgan Taylor Camp...</td>\n",
       "      <td>NaN</td>\n",
       "      <td>NaN</td>\n",
       "      <td>NaN</td>\n",
       "    </tr>\n",
       "    <tr>\n",
       "      <th>9995</th>\n",
       "      <td>Arcane</td>\n",
       "      <td>(2021– )</td>\n",
       "      <td>\\nAnimation, Action, Adventure</td>\n",
       "      <td>NaN</td>\n",
       "      <td>\\nAdd a Plot\\n</td>\n",
       "      <td>\\n</td>\n",
       "      <td>NaN</td>\n",
       "      <td>NaN</td>\n",
       "      <td>NaN</td>\n",
       "    </tr>\n",
       "    <tr>\n",
       "      <th>9996</th>\n",
       "      <td>Heart of Invictus</td>\n",
       "      <td>(2022– )</td>\n",
       "      <td>\\nDocumentary, Sport</td>\n",
       "      <td>NaN</td>\n",
       "      <td>\\nAdd a Plot\\n</td>\n",
       "      <td>\\n    Director:\\nOrlando von Einsiedel\\n| \\n  ...</td>\n",
       "      <td>NaN</td>\n",
       "      <td>NaN</td>\n",
       "      <td>NaN</td>\n",
       "    </tr>\n",
       "    <tr>\n",
       "      <th>9997</th>\n",
       "      <td>The Imperfects</td>\n",
       "      <td>(2021– )</td>\n",
       "      <td>\\nAdventure, Drama, Fantasy</td>\n",
       "      <td>NaN</td>\n",
       "      <td>\\nAdd a Plot\\n</td>\n",
       "      <td>\\n    Director:\\nJovanka Vuckovic\\n| \\n    Sta...</td>\n",
       "      <td>NaN</td>\n",
       "      <td>NaN</td>\n",
       "      <td>NaN</td>\n",
       "    </tr>\n",
       "    <tr>\n",
       "      <th>9998</th>\n",
       "      <td>The Imperfects</td>\n",
       "      <td>(2021– )</td>\n",
       "      <td>\\nAdventure, Drama, Fantasy</td>\n",
       "      <td>NaN</td>\n",
       "      <td>\\nAdd a Plot\\n</td>\n",
       "      <td>\\n    Director:\\nJovanka Vuckovic\\n| \\n    Sta...</td>\n",
       "      <td>NaN</td>\n",
       "      <td>NaN</td>\n",
       "      <td>NaN</td>\n",
       "    </tr>\n",
       "  </tbody>\n",
       "</table>\n",
       "</div>"
      ],
      "text/plain": [
       "                  MOVIES      YEAR  \\\n",
       "9994      The Imperfects  (2021– )   \n",
       "9995              Arcane  (2021– )   \n",
       "9996   Heart of Invictus  (2022– )   \n",
       "9997      The Imperfects  (2021– )   \n",
       "9998      The Imperfects  (2021– )   \n",
       "\n",
       "                                           GENRE  RATING        ONE-LINE  \\\n",
       "9994     \\nAdventure, Drama, Fantasy                 NaN  \\nAdd a Plot\\n   \n",
       "9995  \\nAnimation, Action, Adventure                 NaN  \\nAdd a Plot\\n   \n",
       "9996            \\nDocumentary, Sport                 NaN  \\nAdd a Plot\\n   \n",
       "9997     \\nAdventure, Drama, Fantasy                 NaN  \\nAdd a Plot\\n   \n",
       "9998     \\nAdventure, Drama, Fantasy                 NaN  \\nAdd a Plot\\n   \n",
       "\n",
       "                                                  STARS VOTES  RunTime Gross  \n",
       "9994  \\n            \\n    Stars:\\nMorgan Taylor Camp...   NaN      NaN   NaN  \n",
       "9995                                                 \\n   NaN      NaN   NaN  \n",
       "9996  \\n    Director:\\nOrlando von Einsiedel\\n| \\n  ...   NaN      NaN   NaN  \n",
       "9997  \\n    Director:\\nJovanka Vuckovic\\n| \\n    Sta...   NaN      NaN   NaN  \n",
       "9998  \\n    Director:\\nJovanka Vuckovic\\n| \\n    Sta...   NaN      NaN   NaN  "
      ]
     },
     "execution_count": 3,
     "metadata": {},
     "output_type": "execute_result"
    }
   ],
   "source": [
    "df.tail()"
   ]
  },
  {
   "cell_type": "code",
   "execution_count": 4,
   "id": "4c1b9907",
   "metadata": {},
   "outputs": [
    {
     "data": {
      "text/html": [
       "<div>\n",
       "<style scoped>\n",
       "    .dataframe tbody tr th:only-of-type {\n",
       "        vertical-align: middle;\n",
       "    }\n",
       "\n",
       "    .dataframe tbody tr th {\n",
       "        vertical-align: top;\n",
       "    }\n",
       "\n",
       "    .dataframe thead th {\n",
       "        text-align: right;\n",
       "    }\n",
       "</style>\n",
       "<table border=\"1\" class=\"dataframe\">\n",
       "  <thead>\n",
       "    <tr style=\"text-align: right;\">\n",
       "      <th></th>\n",
       "      <th>MOVIES</th>\n",
       "      <th>YEAR</th>\n",
       "      <th>GENRE</th>\n",
       "      <th>RATING</th>\n",
       "      <th>ONE-LINE</th>\n",
       "      <th>STARS</th>\n",
       "      <th>VOTES</th>\n",
       "      <th>RunTime</th>\n",
       "      <th>Gross</th>\n",
       "    </tr>\n",
       "  </thead>\n",
       "  <tbody>\n",
       "    <tr>\n",
       "      <th>count</th>\n",
       "      <td>9999</td>\n",
       "      <td>9355</td>\n",
       "      <td>9919</td>\n",
       "      <td>8179.000000</td>\n",
       "      <td>9999</td>\n",
       "      <td>9999</td>\n",
       "      <td>8179</td>\n",
       "      <td>7041.000000</td>\n",
       "      <td>460</td>\n",
       "    </tr>\n",
       "    <tr>\n",
       "      <th>unique</th>\n",
       "      <td>6817</td>\n",
       "      <td>438</td>\n",
       "      <td>510</td>\n",
       "      <td>NaN</td>\n",
       "      <td>8688</td>\n",
       "      <td>7877</td>\n",
       "      <td>4129</td>\n",
       "      <td>NaN</td>\n",
       "      <td>332</td>\n",
       "    </tr>\n",
       "    <tr>\n",
       "      <th>top</th>\n",
       "      <td>Bleach: Burîchi</td>\n",
       "      <td>(2020– )</td>\n",
       "      <td>\\nComedy</td>\n",
       "      <td>NaN</td>\n",
       "      <td>\\nAdd a Plot\\n</td>\n",
       "      <td>\\n</td>\n",
       "      <td>7</td>\n",
       "      <td>NaN</td>\n",
       "      <td>$0.01M</td>\n",
       "    </tr>\n",
       "    <tr>\n",
       "      <th>freq</th>\n",
       "      <td>65</td>\n",
       "      <td>892</td>\n",
       "      <td>852</td>\n",
       "      <td>NaN</td>\n",
       "      <td>1265</td>\n",
       "      <td>456</td>\n",
       "      <td>35</td>\n",
       "      <td>NaN</td>\n",
       "      <td>22</td>\n",
       "    </tr>\n",
       "    <tr>\n",
       "      <th>mean</th>\n",
       "      <td>NaN</td>\n",
       "      <td>NaN</td>\n",
       "      <td>NaN</td>\n",
       "      <td>6.921176</td>\n",
       "      <td>NaN</td>\n",
       "      <td>NaN</td>\n",
       "      <td>NaN</td>\n",
       "      <td>68.688539</td>\n",
       "      <td>NaN</td>\n",
       "    </tr>\n",
       "    <tr>\n",
       "      <th>std</th>\n",
       "      <td>NaN</td>\n",
       "      <td>NaN</td>\n",
       "      <td>NaN</td>\n",
       "      <td>1.220232</td>\n",
       "      <td>NaN</td>\n",
       "      <td>NaN</td>\n",
       "      <td>NaN</td>\n",
       "      <td>47.258056</td>\n",
       "      <td>NaN</td>\n",
       "    </tr>\n",
       "    <tr>\n",
       "      <th>min</th>\n",
       "      <td>NaN</td>\n",
       "      <td>NaN</td>\n",
       "      <td>NaN</td>\n",
       "      <td>1.100000</td>\n",
       "      <td>NaN</td>\n",
       "      <td>NaN</td>\n",
       "      <td>NaN</td>\n",
       "      <td>1.000000</td>\n",
       "      <td>NaN</td>\n",
       "    </tr>\n",
       "    <tr>\n",
       "      <th>25%</th>\n",
       "      <td>NaN</td>\n",
       "      <td>NaN</td>\n",
       "      <td>NaN</td>\n",
       "      <td>6.200000</td>\n",
       "      <td>NaN</td>\n",
       "      <td>NaN</td>\n",
       "      <td>NaN</td>\n",
       "      <td>36.000000</td>\n",
       "      <td>NaN</td>\n",
       "    </tr>\n",
       "    <tr>\n",
       "      <th>50%</th>\n",
       "      <td>NaN</td>\n",
       "      <td>NaN</td>\n",
       "      <td>NaN</td>\n",
       "      <td>7.100000</td>\n",
       "      <td>NaN</td>\n",
       "      <td>NaN</td>\n",
       "      <td>NaN</td>\n",
       "      <td>60.000000</td>\n",
       "      <td>NaN</td>\n",
       "    </tr>\n",
       "    <tr>\n",
       "      <th>75%</th>\n",
       "      <td>NaN</td>\n",
       "      <td>NaN</td>\n",
       "      <td>NaN</td>\n",
       "      <td>7.800000</td>\n",
       "      <td>NaN</td>\n",
       "      <td>NaN</td>\n",
       "      <td>NaN</td>\n",
       "      <td>95.000000</td>\n",
       "      <td>NaN</td>\n",
       "    </tr>\n",
       "    <tr>\n",
       "      <th>max</th>\n",
       "      <td>NaN</td>\n",
       "      <td>NaN</td>\n",
       "      <td>NaN</td>\n",
       "      <td>9.900000</td>\n",
       "      <td>NaN</td>\n",
       "      <td>NaN</td>\n",
       "      <td>NaN</td>\n",
       "      <td>853.000000</td>\n",
       "      <td>NaN</td>\n",
       "    </tr>\n",
       "  </tbody>\n",
       "</table>\n",
       "</div>"
      ],
      "text/plain": [
       "                  MOVIES      YEAR                 GENRE       RATING  \\\n",
       "count               9999      9355                  9919  8179.000000   \n",
       "unique              6817       438                   510          NaN   \n",
       "top      Bleach: Burîchi  (2020– )  \\nComedy                      NaN   \n",
       "freq                  65       892                   852          NaN   \n",
       "mean                 NaN       NaN                   NaN     6.921176   \n",
       "std                  NaN       NaN                   NaN     1.220232   \n",
       "min                  NaN       NaN                   NaN     1.100000   \n",
       "25%                  NaN       NaN                   NaN     6.200000   \n",
       "50%                  NaN       NaN                   NaN     7.100000   \n",
       "75%                  NaN       NaN                   NaN     7.800000   \n",
       "max                  NaN       NaN                   NaN     9.900000   \n",
       "\n",
       "              ONE-LINE STARS VOTES      RunTime   Gross  \n",
       "count             9999  9999  8179  7041.000000     460  \n",
       "unique            8688  7877  4129          NaN     332  \n",
       "top     \\nAdd a Plot\\n    \\n     7          NaN  $0.01M  \n",
       "freq              1265   456    35          NaN      22  \n",
       "mean               NaN   NaN   NaN    68.688539     NaN  \n",
       "std                NaN   NaN   NaN    47.258056     NaN  \n",
       "min                NaN   NaN   NaN     1.000000     NaN  \n",
       "25%                NaN   NaN   NaN    36.000000     NaN  \n",
       "50%                NaN   NaN   NaN    60.000000     NaN  \n",
       "75%                NaN   NaN   NaN    95.000000     NaN  \n",
       "max                NaN   NaN   NaN   853.000000     NaN  "
      ]
     },
     "execution_count": 4,
     "metadata": {},
     "output_type": "execute_result"
    }
   ],
   "source": [
    "df.describe(include='all')"
   ]
  },
  {
   "cell_type": "code",
   "execution_count": 5,
   "id": "c4315345",
   "metadata": {},
   "outputs": [
    {
     "name": "stdout",
     "output_type": "stream",
     "text": [
      "<class 'pandas.core.frame.DataFrame'>\n",
      "RangeIndex: 9999 entries, 0 to 9998\n",
      "Data columns (total 9 columns):\n",
      " #   Column    Non-Null Count  Dtype  \n",
      "---  ------    --------------  -----  \n",
      " 0   MOVIES    9999 non-null   object \n",
      " 1   YEAR      9355 non-null   object \n",
      " 2   GENRE     9919 non-null   object \n",
      " 3   RATING    8179 non-null   float64\n",
      " 4   ONE-LINE  9999 non-null   object \n",
      " 5   STARS     9999 non-null   object \n",
      " 6   VOTES     8179 non-null   object \n",
      " 7   RunTime   7041 non-null   float64\n",
      " 8   Gross     460 non-null    object \n",
      "dtypes: float64(2), object(7)\n",
      "memory usage: 703.2+ KB\n"
     ]
    }
   ],
   "source": [
    "df.info()"
   ]
  },
  {
   "cell_type": "code",
   "execution_count": 6,
   "id": "bdb1da38",
   "metadata": {},
   "outputs": [],
   "source": [
    "df=df.drop(['Gross'],axis=1)"
   ]
  },
  {
   "cell_type": "code",
   "execution_count": 7,
   "id": "9ce3e048",
   "metadata": {},
   "outputs": [
    {
     "data": {
      "text/plain": [
       "431"
      ]
     },
     "execution_count": 7,
     "metadata": {},
     "output_type": "execute_result"
    }
   ],
   "source": [
    "df.duplicated().sum()#subset=\"MOVIES\""
   ]
  },
  {
   "cell_type": "code",
   "execution_count": 8,
   "id": "44fc0ba2",
   "metadata": {},
   "outputs": [],
   "source": [
    "df.drop_duplicates(keep='first',inplace=True)"
   ]
  },
  {
   "cell_type": "code",
   "execution_count": 9,
   "id": "18319946",
   "metadata": {},
   "outputs": [
    {
     "data": {
      "text/plain": [
       "0"
      ]
     },
     "execution_count": 9,
     "metadata": {},
     "output_type": "execute_result"
    }
   ],
   "source": [
    "df.duplicated().sum()"
   ]
  },
  {
   "cell_type": "code",
   "execution_count": 10,
   "id": "3be9ef98",
   "metadata": {},
   "outputs": [
    {
     "name": "stdout",
     "output_type": "stream",
     "text": [
      "<class 'pandas.core.frame.DataFrame'>\n",
      "Int64Index: 9568 entries, 0 to 9998\n",
      "Data columns (total 8 columns):\n",
      " #   Column    Non-Null Count  Dtype  \n",
      "---  ------    --------------  -----  \n",
      " 0   MOVIES    9568 non-null   object \n",
      " 1   YEAR      9026 non-null   object \n",
      " 2   GENRE     9490 non-null   object \n",
      " 3   RATING    8168 non-null   float64\n",
      " 4   ONE-LINE  9568 non-null   object \n",
      " 5   STARS     9568 non-null   object \n",
      " 6   VOTES     8168 non-null   object \n",
      " 7   RunTime   7008 non-null   float64\n",
      "dtypes: float64(2), object(6)\n",
      "memory usage: 672.8+ KB\n"
     ]
    }
   ],
   "source": [
    "df.info()"
   ]
  },
  {
   "cell_type": "code",
   "execution_count": 11,
   "id": "7bd83e88",
   "metadata": {},
   "outputs": [
    {
     "data": {
      "text/plain": [
       "MOVIES         0\n",
       "YEAR         542\n",
       "GENRE         78\n",
       "RATING      1400\n",
       "ONE-LINE       0\n",
       "STARS          0\n",
       "VOTES       1400\n",
       "RunTime     2560\n",
       "dtype: int64"
      ]
     },
     "execution_count": 11,
     "metadata": {},
     "output_type": "execute_result"
    }
   ],
   "source": [
    "df.isnull().sum()"
   ]
  },
  {
   "cell_type": "code",
   "execution_count": 12,
   "id": "bab6196e",
   "metadata": {},
   "outputs": [],
   "source": [
    "df=df.dropna()"
   ]
  },
  {
   "cell_type": "code",
   "execution_count": 13,
   "id": "d6cd9f77",
   "metadata": {},
   "outputs": [
    {
     "name": "stdout",
     "output_type": "stream",
     "text": [
      "<class 'pandas.core.frame.DataFrame'>\n",
      "Int64Index: 6779 entries, 0 to 9963\n",
      "Data columns (total 8 columns):\n",
      " #   Column    Non-Null Count  Dtype  \n",
      "---  ------    --------------  -----  \n",
      " 0   MOVIES    6779 non-null   object \n",
      " 1   YEAR      6779 non-null   object \n",
      " 2   GENRE     6779 non-null   object \n",
      " 3   RATING    6779 non-null   float64\n",
      " 4   ONE-LINE  6779 non-null   object \n",
      " 5   STARS     6779 non-null   object \n",
      " 6   VOTES     6779 non-null   object \n",
      " 7   RunTime   6779 non-null   float64\n",
      "dtypes: float64(2), object(6)\n",
      "memory usage: 476.6+ KB\n"
     ]
    }
   ],
   "source": [
    "df.info()"
   ]
  },
  {
   "cell_type": "code",
   "execution_count": 14,
   "id": "5b301097",
   "metadata": {},
   "outputs": [],
   "source": [
    "df['YEAR']=df['YEAR'].str.slice(start=1, stop=-1)"
   ]
  },
  {
   "cell_type": "code",
   "execution_count": 15,
   "id": "523e0f1d",
   "metadata": {},
   "outputs": [],
   "source": [
    "df['year_start']=df['YEAR'].str.slice(start=0,stop=4)\n",
    "df['year_start']=df.year_start.str.strip('I) (VX ')\n",
    "for i in (df.year_start.loc[df['year_start']=='']).index:\n",
    "    df=df.drop(i,axis=0)\n",
    "df['year_start'] = df['year_start'].astype(int)"
   ]
  },
  {
   "cell_type": "code",
   "execution_count": 16,
   "id": "fecdb49b",
   "metadata": {},
   "outputs": [],
   "source": [
    "df['year_end']=df['YEAR'].str.slice(start=5)\n",
    "df['year_end']=df.year_end.str.strip('I) (VX TV Special Mov dabcdefghijklmnopqrstuvwxyz')\n",
    "df['year_end']=df['year_end'].replace(r'^\\s*$', np.nan, regex=True)\n",
    "#df['year_end'] = df['year_end'].astype(int)"
   ]
  },
  {
   "cell_type": "code",
   "execution_count": 17,
   "id": "988b364a",
   "metadata": {},
   "outputs": [],
   "source": [
    "df=df.drop(['YEAR'],axis=1)"
   ]
  },
  {
   "cell_type": "code",
   "execution_count": 18,
   "id": "8b4b092c",
   "metadata": {},
   "outputs": [
    {
     "data": {
      "text/plain": [
       "0       2021\n",
       "1       2021\n",
       "2       2010\n",
       "3       2013\n",
       "5       2020\n",
       "        ... \n",
       "9959    2021\n",
       "9960    2021\n",
       "9961    2021\n",
       "9962    2021\n",
       "9963    2017\n",
       "Name: year_start, Length: 6524, dtype: int32"
      ]
     },
     "execution_count": 18,
     "metadata": {},
     "output_type": "execute_result"
    }
   ],
   "source": [
    "df['year_start']"
   ]
  },
  {
   "cell_type": "code",
   "execution_count": 19,
   "id": "1fb5d295",
   "metadata": {},
   "outputs": [
    {
     "name": "stdout",
     "output_type": "stream",
     "text": [
      "<class 'pandas.core.frame.DataFrame'>\n",
      "Int64Index: 6524 entries, 0 to 9963\n",
      "Data columns (total 9 columns):\n",
      " #   Column      Non-Null Count  Dtype  \n",
      "---  ------      --------------  -----  \n",
      " 0   MOVIES      6524 non-null   object \n",
      " 1   GENRE       6524 non-null   object \n",
      " 2   RATING      6524 non-null   float64\n",
      " 3   ONE-LINE    6524 non-null   object \n",
      " 4   STARS       6524 non-null   object \n",
      " 5   VOTES       6524 non-null   object \n",
      " 6   RunTime     6524 non-null   float64\n",
      " 7   year_start  6524 non-null   int32  \n",
      " 8   year_end    1159 non-null   object \n",
      "dtypes: float64(2), int32(1), object(6)\n",
      "memory usage: 484.2+ KB\n"
     ]
    }
   ],
   "source": [
    "df.info()"
   ]
  },
  {
   "cell_type": "code",
   "execution_count": 20,
   "id": "b687b5fc",
   "metadata": {},
   "outputs": [],
   "source": [
    "df=df.reset_index(drop=True)"
   ]
  },
  {
   "cell_type": "code",
   "execution_count": 21,
   "id": "43d83c4d",
   "metadata": {},
   "outputs": [],
   "source": [
    "df['GENRE']=df['GENRE'].str.strip()\n",
    "df['ONE-LINE']=df['ONE-LINE'].str.strip()\n",
    "df['STARS']=df['STARS'].str.replace('\\n',\"\")"
   ]
  },
  {
   "cell_type": "code",
   "execution_count": 22,
   "id": "a2932b24",
   "metadata": {},
   "outputs": [
    {
     "name": "stderr",
     "output_type": "stream",
     "text": [
      "C:\\Users\\abodk222\\AppData\\Local\\Temp/ipykernel_8568/3078242933.py:1: SettingWithCopyWarning: \n",
      "A value is trying to be set on a copy of a slice from a DataFrame\n",
      "\n",
      "See the caveats in the documentation: https://pandas.pydata.org/pandas-docs/stable/user_guide/indexing.html#returning-a-view-versus-a-copy\n",
      "  df[\"RATING\"].loc[1015]=4.1\n"
     ]
    }
   ],
   "source": [
    "df[\"RATING\"].loc[1015]=4.1"
   ]
  },
  {
   "cell_type": "code",
   "execution_count": 23,
   "id": "b4b67112",
   "metadata": {},
   "outputs": [
    {
     "data": {
      "text/html": [
       "<div>\n",
       "<style scoped>\n",
       "    .dataframe tbody tr th:only-of-type {\n",
       "        vertical-align: middle;\n",
       "    }\n",
       "\n",
       "    .dataframe tbody tr th {\n",
       "        vertical-align: top;\n",
       "    }\n",
       "\n",
       "    .dataframe thead th {\n",
       "        text-align: right;\n",
       "    }\n",
       "</style>\n",
       "<table border=\"1\" class=\"dataframe\">\n",
       "  <thead>\n",
       "    <tr style=\"text-align: right;\">\n",
       "      <th></th>\n",
       "      <th>VOTES</th>\n",
       "    </tr>\n",
       "  </thead>\n",
       "  <tbody>\n",
       "    <tr>\n",
       "      <th>count</th>\n",
       "      <td>6.524000e+03</td>\n",
       "    </tr>\n",
       "    <tr>\n",
       "      <th>mean</th>\n",
       "      <td>1.751153e+04</td>\n",
       "    </tr>\n",
       "    <tr>\n",
       "      <th>std</th>\n",
       "      <td>7.606660e+04</td>\n",
       "    </tr>\n",
       "    <tr>\n",
       "      <th>min</th>\n",
       "      <td>5.000000e+00</td>\n",
       "    </tr>\n",
       "    <tr>\n",
       "      <th>25%</th>\n",
       "      <td>2.807500e+02</td>\n",
       "    </tr>\n",
       "    <tr>\n",
       "      <th>50%</th>\n",
       "      <td>1.191500e+03</td>\n",
       "    </tr>\n",
       "    <tr>\n",
       "      <th>75%</th>\n",
       "      <td>4.870000e+03</td>\n",
       "    </tr>\n",
       "    <tr>\n",
       "      <th>max</th>\n",
       "      <td>1.713028e+06</td>\n",
       "    </tr>\n",
       "  </tbody>\n",
       "</table>\n",
       "</div>"
      ],
      "text/plain": [
       "              VOTES\n",
       "count  6.524000e+03\n",
       "mean   1.751153e+04\n",
       "std    7.606660e+04\n",
       "min    5.000000e+00\n",
       "25%    2.807500e+02\n",
       "50%    1.191500e+03\n",
       "75%    4.870000e+03\n",
       "max    1.713028e+06"
      ]
     },
     "execution_count": 23,
     "metadata": {},
     "output_type": "execute_result"
    }
   ],
   "source": [
    "df['VOTES'] = df.VOTES.str.replace(',','')\n",
    "df['VOTES'] = pd.to_numeric(df['VOTES'])\n",
    "df['VOTES'] = df['VOTES'].astype(int)\n",
    "df[['VOTES']].describe(include='all')"
   ]
  },
  {
   "cell_type": "code",
   "execution_count": 24,
   "id": "0a535cb6",
   "metadata": {},
   "outputs": [
    {
     "data": {
      "text/html": [
       "<div>\n",
       "<style scoped>\n",
       "    .dataframe tbody tr th:only-of-type {\n",
       "        vertical-align: middle;\n",
       "    }\n",
       "\n",
       "    .dataframe tbody tr th {\n",
       "        vertical-align: top;\n",
       "    }\n",
       "\n",
       "    .dataframe thead th {\n",
       "        text-align: right;\n",
       "    }\n",
       "</style>\n",
       "<table border=\"1\" class=\"dataframe\">\n",
       "  <thead>\n",
       "    <tr style=\"text-align: right;\">\n",
       "      <th></th>\n",
       "      <th>MOVIES</th>\n",
       "      <th>GENRE</th>\n",
       "      <th>RATING</th>\n",
       "      <th>ONE-LINE</th>\n",
       "      <th>STARS</th>\n",
       "      <th>VOTES</th>\n",
       "      <th>RunTime</th>\n",
       "      <th>year_start</th>\n",
       "      <th>year_end</th>\n",
       "    </tr>\n",
       "  </thead>\n",
       "  <tbody>\n",
       "    <tr>\n",
       "      <th>0</th>\n",
       "      <td>Blood Red Sky</td>\n",
       "      <td>Action, Horror, Thriller</td>\n",
       "      <td>6.1</td>\n",
       "      <td>A woman with a mysterious illness is forced in...</td>\n",
       "      <td>Director:Peter Thorwarth|     Stars:Peri B...</td>\n",
       "      <td>21062</td>\n",
       "      <td>121.0</td>\n",
       "      <td>2021</td>\n",
       "      <td>NaN</td>\n",
       "    </tr>\n",
       "    <tr>\n",
       "      <th>1</th>\n",
       "      <td>Masters of the Universe: Revelation</td>\n",
       "      <td>Animation, Action, Adventure</td>\n",
       "      <td>5.0</td>\n",
       "      <td>The war for Eternia begins again in what may b...</td>\n",
       "      <td>Stars:Chris Wood, Sarah Michel...</td>\n",
       "      <td>17870</td>\n",
       "      <td>25.0</td>\n",
       "      <td>2021</td>\n",
       "      <td>NaN</td>\n",
       "    </tr>\n",
       "    <tr>\n",
       "      <th>2</th>\n",
       "      <td>The Walking Dead</td>\n",
       "      <td>Drama, Horror, Thriller</td>\n",
       "      <td>8.2</td>\n",
       "      <td>Sheriff Deputy Rick Grimes wakes up from a com...</td>\n",
       "      <td>Stars:Andrew Lincoln, Norman R...</td>\n",
       "      <td>885805</td>\n",
       "      <td>44.0</td>\n",
       "      <td>2010</td>\n",
       "      <td>2022</td>\n",
       "    </tr>\n",
       "    <tr>\n",
       "      <th>3</th>\n",
       "      <td>Rick and Morty</td>\n",
       "      <td>Animation, Adventure, Comedy</td>\n",
       "      <td>9.2</td>\n",
       "      <td>An animated series that follows the exploits o...</td>\n",
       "      <td>Stars:Justin Roiland, Chris Pa...</td>\n",
       "      <td>414849</td>\n",
       "      <td>23.0</td>\n",
       "      <td>2013</td>\n",
       "      <td>NaN</td>\n",
       "    </tr>\n",
       "    <tr>\n",
       "      <th>4</th>\n",
       "      <td>Outer Banks</td>\n",
       "      <td>Action, Crime, Drama</td>\n",
       "      <td>7.6</td>\n",
       "      <td>A group of teenagers from the wrong side of th...</td>\n",
       "      <td>Stars:Chase Stokes, Madelyn Cl...</td>\n",
       "      <td>25858</td>\n",
       "      <td>50.0</td>\n",
       "      <td>2020</td>\n",
       "      <td>NaN</td>\n",
       "    </tr>\n",
       "    <tr>\n",
       "      <th>...</th>\n",
       "      <td>...</td>\n",
       "      <td>...</td>\n",
       "      <td>...</td>\n",
       "      <td>...</td>\n",
       "      <td>...</td>\n",
       "      <td>...</td>\n",
       "      <td>...</td>\n",
       "      <td>...</td>\n",
       "      <td>...</td>\n",
       "    </tr>\n",
       "    <tr>\n",
       "      <th>6519</th>\n",
       "      <td>Sexify</td>\n",
       "      <td>Comedy, Drama</td>\n",
       "      <td>6.8</td>\n",
       "      <td>Monika's idea for gathering data is a hit, but...</td>\n",
       "      <td>Director:Kalina Alabrudzinska|     Stars:A...</td>\n",
       "      <td>108</td>\n",
       "      <td>38.0</td>\n",
       "      <td>2021</td>\n",
       "      <td>NaN</td>\n",
       "    </tr>\n",
       "    <tr>\n",
       "      <th>6520</th>\n",
       "      <td>Sexify</td>\n",
       "      <td>Comedy, Drama</td>\n",
       "      <td>7.1</td>\n",
       "      <td>After facing their parents at Easter breakfast...</td>\n",
       "      <td>Director:Kalina Alabrudzinska|     Stars:A...</td>\n",
       "      <td>103</td>\n",
       "      <td>37.0</td>\n",
       "      <td>2021</td>\n",
       "      <td>NaN</td>\n",
       "    </tr>\n",
       "    <tr>\n",
       "      <th>6521</th>\n",
       "      <td>Sexify</td>\n",
       "      <td>Comedy, Drama</td>\n",
       "      <td>6.9</td>\n",
       "      <td>After getting an anonymous tip about the copul...</td>\n",
       "      <td>Director:Kalina Alabrudzinska|     Stars:A...</td>\n",
       "      <td>96</td>\n",
       "      <td>40.0</td>\n",
       "      <td>2021</td>\n",
       "      <td>NaN</td>\n",
       "    </tr>\n",
       "    <tr>\n",
       "      <th>6522</th>\n",
       "      <td>Sexify</td>\n",
       "      <td>Comedy, Drama</td>\n",
       "      <td>7.1</td>\n",
       "      <td>The big pitch at the university tech competiti...</td>\n",
       "      <td>Director:Kalina Alabrudzinska|     Stars:A...</td>\n",
       "      <td>100</td>\n",
       "      <td>47.0</td>\n",
       "      <td>2021</td>\n",
       "      <td>NaN</td>\n",
       "    </tr>\n",
       "    <tr>\n",
       "      <th>6523</th>\n",
       "      <td>Castlevania</td>\n",
       "      <td>Animation, Action, Adventure</td>\n",
       "      <td>8.2</td>\n",
       "      <td>Lenore urges Hector to not test Camilla's pati...</td>\n",
       "      <td>Director:Sam Deats|     Stars:Richard Armi...</td>\n",
       "      <td>911</td>\n",
       "      <td>24.0</td>\n",
       "      <td>2017</td>\n",
       "      <td>2021</td>\n",
       "    </tr>\n",
       "  </tbody>\n",
       "</table>\n",
       "<p>6524 rows × 9 columns</p>\n",
       "</div>"
      ],
      "text/plain": [
       "                                   MOVIES                         GENRE  \\\n",
       "0                           Blood Red Sky      Action, Horror, Thriller   \n",
       "1     Masters of the Universe: Revelation  Animation, Action, Adventure   \n",
       "2                        The Walking Dead       Drama, Horror, Thriller   \n",
       "3                          Rick and Morty  Animation, Adventure, Comedy   \n",
       "4                             Outer Banks          Action, Crime, Drama   \n",
       "...                                   ...                           ...   \n",
       "6519                               Sexify                 Comedy, Drama   \n",
       "6520                               Sexify                 Comedy, Drama   \n",
       "6521                               Sexify                 Comedy, Drama   \n",
       "6522                               Sexify                 Comedy, Drama   \n",
       "6523                          Castlevania  Animation, Action, Adventure   \n",
       "\n",
       "      RATING                                           ONE-LINE  \\\n",
       "0        6.1  A woman with a mysterious illness is forced in...   \n",
       "1        5.0  The war for Eternia begins again in what may b...   \n",
       "2        8.2  Sheriff Deputy Rick Grimes wakes up from a com...   \n",
       "3        9.2  An animated series that follows the exploits o...   \n",
       "4        7.6  A group of teenagers from the wrong side of th...   \n",
       "...      ...                                                ...   \n",
       "6519     6.8  Monika's idea for gathering data is a hit, but...   \n",
       "6520     7.1  After facing their parents at Easter breakfast...   \n",
       "6521     6.9  After getting an anonymous tip about the copul...   \n",
       "6522     7.1  The big pitch at the university tech competiti...   \n",
       "6523     8.2  Lenore urges Hector to not test Camilla's pati...   \n",
       "\n",
       "                                                  STARS   VOTES  RunTime  \\\n",
       "0         Director:Peter Thorwarth|     Stars:Peri B...   21062    121.0   \n",
       "1                     Stars:Chris Wood, Sarah Michel...   17870     25.0   \n",
       "2                     Stars:Andrew Lincoln, Norman R...  885805     44.0   \n",
       "3                     Stars:Justin Roiland, Chris Pa...  414849     23.0   \n",
       "4                     Stars:Chase Stokes, Madelyn Cl...   25858     50.0   \n",
       "...                                                 ...     ...      ...   \n",
       "6519      Director:Kalina Alabrudzinska|     Stars:A...     108     38.0   \n",
       "6520      Director:Kalina Alabrudzinska|     Stars:A...     103     37.0   \n",
       "6521      Director:Kalina Alabrudzinska|     Stars:A...      96     40.0   \n",
       "6522      Director:Kalina Alabrudzinska|     Stars:A...     100     47.0   \n",
       "6523      Director:Sam Deats|     Stars:Richard Armi...     911     24.0   \n",
       "\n",
       "      year_start year_end  \n",
       "0           2021      NaN  \n",
       "1           2021      NaN  \n",
       "2           2010     2022  \n",
       "3           2013      NaN  \n",
       "4           2020      NaN  \n",
       "...          ...      ...  \n",
       "6519        2021      NaN  \n",
       "6520        2021      NaN  \n",
       "6521        2021      NaN  \n",
       "6522        2021      NaN  \n",
       "6523        2017     2021  \n",
       "\n",
       "[6524 rows x 9 columns]"
      ]
     },
     "execution_count": 24,
     "metadata": {},
     "output_type": "execute_result"
    }
   ],
   "source": [
    "df"
   ]
  },
  {
   "cell_type": "code",
   "execution_count": 25,
   "id": "aff1ebe9",
   "metadata": {},
   "outputs": [
    {
     "data": {
      "text/html": [
       "<div>\n",
       "<style scoped>\n",
       "    .dataframe tbody tr th:only-of-type {\n",
       "        vertical-align: middle;\n",
       "    }\n",
       "\n",
       "    .dataframe tbody tr th {\n",
       "        vertical-align: top;\n",
       "    }\n",
       "\n",
       "    .dataframe thead th {\n",
       "        text-align: right;\n",
       "    }\n",
       "</style>\n",
       "<table border=\"1\" class=\"dataframe\">\n",
       "  <thead>\n",
       "    <tr style=\"text-align: right;\">\n",
       "      <th></th>\n",
       "      <th>MOVIES</th>\n",
       "      <th>GENRE</th>\n",
       "      <th>RATING</th>\n",
       "      <th>ONE-LINE</th>\n",
       "      <th>STARS</th>\n",
       "      <th>VOTES</th>\n",
       "      <th>RunTime</th>\n",
       "      <th>year_start</th>\n",
       "      <th>year_end</th>\n",
       "    </tr>\n",
       "  </thead>\n",
       "  <tbody>\n",
       "    <tr>\n",
       "      <th>count</th>\n",
       "      <td>6524</td>\n",
       "      <td>6524</td>\n",
       "      <td>6524.000000</td>\n",
       "      <td>6524</td>\n",
       "      <td>6524</td>\n",
       "      <td>6.524000e+03</td>\n",
       "      <td>6524.000000</td>\n",
       "      <td>6524.000000</td>\n",
       "      <td>1159</td>\n",
       "    </tr>\n",
       "    <tr>\n",
       "      <th>unique</th>\n",
       "      <td>4914</td>\n",
       "      <td>456</td>\n",
       "      <td>NaN</td>\n",
       "      <td>6373</td>\n",
       "      <td>5691</td>\n",
       "      <td>NaN</td>\n",
       "      <td>NaN</td>\n",
       "      <td>NaN</td>\n",
       "      <td>34</td>\n",
       "    </tr>\n",
       "    <tr>\n",
       "      <th>top</th>\n",
       "      <td>Bleach: Burîchi</td>\n",
       "      <td>Comedy</td>\n",
       "      <td>NaN</td>\n",
       "      <td>Add a Plot</td>\n",
       "      <td></td>\n",
       "      <td>NaN</td>\n",
       "      <td>NaN</td>\n",
       "      <td>NaN</td>\n",
       "      <td>2020</td>\n",
       "    </tr>\n",
       "    <tr>\n",
       "      <th>freq</th>\n",
       "      <td>65</td>\n",
       "      <td>572</td>\n",
       "      <td>NaN</td>\n",
       "      <td>139</td>\n",
       "      <td>29</td>\n",
       "      <td>NaN</td>\n",
       "      <td>NaN</td>\n",
       "      <td>NaN</td>\n",
       "      <td>336</td>\n",
       "    </tr>\n",
       "    <tr>\n",
       "      <th>mean</th>\n",
       "      <td>NaN</td>\n",
       "      <td>NaN</td>\n",
       "      <td>6.893072</td>\n",
       "      <td>NaN</td>\n",
       "      <td>NaN</td>\n",
       "      <td>1.751153e+04</td>\n",
       "      <td>68.407572</td>\n",
       "      <td>2015.250307</td>\n",
       "      <td>NaN</td>\n",
       "    </tr>\n",
       "    <tr>\n",
       "      <th>std</th>\n",
       "      <td>NaN</td>\n",
       "      <td>NaN</td>\n",
       "      <td>1.239157</td>\n",
       "      <td>NaN</td>\n",
       "      <td>NaN</td>\n",
       "      <td>7.606660e+04</td>\n",
       "      <td>47.576807</td>\n",
       "      <td>8.208051</td>\n",
       "      <td>NaN</td>\n",
       "    </tr>\n",
       "    <tr>\n",
       "      <th>min</th>\n",
       "      <td>NaN</td>\n",
       "      <td>NaN</td>\n",
       "      <td>1.100000</td>\n",
       "      <td>NaN</td>\n",
       "      <td>NaN</td>\n",
       "      <td>5.000000e+00</td>\n",
       "      <td>1.000000</td>\n",
       "      <td>1932.000000</td>\n",
       "      <td>NaN</td>\n",
       "    </tr>\n",
       "    <tr>\n",
       "      <th>25%</th>\n",
       "      <td>NaN</td>\n",
       "      <td>NaN</td>\n",
       "      <td>6.200000</td>\n",
       "      <td>NaN</td>\n",
       "      <td>NaN</td>\n",
       "      <td>2.807500e+02</td>\n",
       "      <td>35.000000</td>\n",
       "      <td>2014.000000</td>\n",
       "      <td>NaN</td>\n",
       "    </tr>\n",
       "    <tr>\n",
       "      <th>50%</th>\n",
       "      <td>NaN</td>\n",
       "      <td>NaN</td>\n",
       "      <td>7.100000</td>\n",
       "      <td>NaN</td>\n",
       "      <td>NaN</td>\n",
       "      <td>1.191500e+03</td>\n",
       "      <td>60.000000</td>\n",
       "      <td>2018.000000</td>\n",
       "      <td>NaN</td>\n",
       "    </tr>\n",
       "    <tr>\n",
       "      <th>75%</th>\n",
       "      <td>NaN</td>\n",
       "      <td>NaN</td>\n",
       "      <td>7.800000</td>\n",
       "      <td>NaN</td>\n",
       "      <td>NaN</td>\n",
       "      <td>4.870000e+03</td>\n",
       "      <td>94.000000</td>\n",
       "      <td>2019.000000</td>\n",
       "      <td>NaN</td>\n",
       "    </tr>\n",
       "    <tr>\n",
       "      <th>max</th>\n",
       "      <td>NaN</td>\n",
       "      <td>NaN</td>\n",
       "      <td>9.900000</td>\n",
       "      <td>NaN</td>\n",
       "      <td>NaN</td>\n",
       "      <td>1.713028e+06</td>\n",
       "      <td>853.000000</td>\n",
       "      <td>2021.000000</td>\n",
       "      <td>NaN</td>\n",
       "    </tr>\n",
       "  </tbody>\n",
       "</table>\n",
       "</div>"
      ],
      "text/plain": [
       "                  MOVIES   GENRE       RATING    ONE-LINE STARS         VOTES  \\\n",
       "count               6524    6524  6524.000000        6524  6524  6.524000e+03   \n",
       "unique              4914     456          NaN        6373  5691           NaN   \n",
       "top      Bleach: Burîchi  Comedy          NaN  Add a Plot                 NaN   \n",
       "freq                  65     572          NaN         139    29           NaN   \n",
       "mean                 NaN     NaN     6.893072         NaN   NaN  1.751153e+04   \n",
       "std                  NaN     NaN     1.239157         NaN   NaN  7.606660e+04   \n",
       "min                  NaN     NaN     1.100000         NaN   NaN  5.000000e+00   \n",
       "25%                  NaN     NaN     6.200000         NaN   NaN  2.807500e+02   \n",
       "50%                  NaN     NaN     7.100000         NaN   NaN  1.191500e+03   \n",
       "75%                  NaN     NaN     7.800000         NaN   NaN  4.870000e+03   \n",
       "max                  NaN     NaN     9.900000         NaN   NaN  1.713028e+06   \n",
       "\n",
       "            RunTime   year_start year_end  \n",
       "count   6524.000000  6524.000000     1159  \n",
       "unique          NaN          NaN       34  \n",
       "top             NaN          NaN     2020  \n",
       "freq            NaN          NaN      336  \n",
       "mean      68.407572  2015.250307      NaN  \n",
       "std       47.576807     8.208051      NaN  \n",
       "min        1.000000  1932.000000      NaN  \n",
       "25%       35.000000  2014.000000      NaN  \n",
       "50%       60.000000  2018.000000      NaN  \n",
       "75%       94.000000  2019.000000      NaN  \n",
       "max      853.000000  2021.000000      NaN  "
      ]
     },
     "execution_count": 25,
     "metadata": {},
     "output_type": "execute_result"
    }
   ],
   "source": [
    "df.describe(include='all')"
   ]
  },
  {
   "cell_type": "code",
   "execution_count": 26,
   "id": "bba303ad",
   "metadata": {},
   "outputs": [],
   "source": [
    "#df['year_start']=df['year_start'][(np.abs(stats.zscore(df['year_start'])) < 3)]"
   ]
  },
  {
   "cell_type": "code",
   "execution_count": 27,
   "id": "c30d775b",
   "metadata": {},
   "outputs": [
    {
     "data": {
      "image/png": "[encoded data removed]",
      "text/plain": [
       "<Figure size 504x360 with 1 Axes>"
      ]
     },
     "metadata": {
      "needs_background": "light"
     },
     "output_type": "display_data"
    }
   ],
   "source": [
    "df\n",
    "plt.figure(figsize=(7,5))\n",
    "plt.hist(df['RATING'])\n",
    "plt.show()"
   ]
  },
  {
   "cell_type": "code",
   "execution_count": 28,
   "id": "f2f7990d",
   "metadata": {},
   "outputs": [],
   "source": [
    "df=df[df['RATING']>3]"
   ]
  },
  {
   "cell_type": "code",
   "execution_count": 29,
   "id": "b16b83bc",
   "metadata": {},
   "outputs": [
    {
     "data": {
      "image/png": "[encoded data removed]",
      "text/plain": [
       "<Figure size 504x360 with 1 Axes>"
      ]
     },
     "metadata": {
      "needs_background": "light"
     },
     "output_type": "display_data"
    }
   ],
   "source": [
    "plt.figure(figsize=(7,5))\n",
    "plt.hist(df['RATING'])\n",
    "plt.show()"
   ]
  },
  {
   "cell_type": "code",
   "execution_count": 30,
   "id": "41ff8fe7",
   "metadata": {},
   "outputs": [
    {
     "data": {
      "text/plain": [
       "MOVIES           0\n",
       "GENRE            0\n",
       "RATING           0\n",
       "ONE-LINE         0\n",
       "STARS            0\n",
       "VOTES            0\n",
       "RunTime          0\n",
       "year_start       0\n",
       "year_end      5331\n",
       "dtype: int64"
      ]
     },
     "execution_count": 30,
     "metadata": {},
     "output_type": "execute_result"
    }
   ],
   "source": [
    "df.isnull().sum()"
   ]
  },
  {
   "cell_type": "code",
   "execution_count": 31,
   "id": "3d40dfc2",
   "metadata": {},
   "outputs": [
    {
     "data": {
      "image/png": "[encoded data removed]",
      "text/plain": [
       "<Figure size 504x360 with 1 Axes>"
      ]
     },
     "metadata": {
      "needs_background": "light"
     },
     "output_type": "display_data"
    }
   ],
   "source": [
    "plt.figure(figsize=(7,5))\n",
    "plt.hist(df['VOTES'])\n",
    "plt.show()"
   ]
  },
  {
   "cell_type": "code",
   "execution_count": 32,
   "id": "68b60794",
   "metadata": {},
   "outputs": [
    {
     "data": {
      "image/png": "[encoded data removed]",
      "text/plain": [
       "<Figure size 504x360 with 1 Axes>"
      ]
     },
     "metadata": {
      "needs_background": "light"
     },
     "output_type": "display_data"
    }
   ],
   "source": [
    "plt.figure(figsize=(7,5))\n",
    "plt.hist(df['RunTime'])\n",
    "plt.show()"
   ]
  },
  {
   "cell_type": "code",
   "execution_count": 33,
   "id": "491dba90",
   "metadata": {},
   "outputs": [],
   "source": [
    "qruntime=df['RunTime'].quantile(0.95)\n",
    "df=df[df['RunTime']<qruntime]"
   ]
  },
  {
   "cell_type": "code",
   "execution_count": 34,
   "id": "0c18e44b",
   "metadata": {},
   "outputs": [
    {
     "data": {
      "image/png": "[encoded data removed]",
      "text/plain": [
       "<Figure size 504x360 with 1 Axes>"
      ]
     },
     "metadata": {
      "needs_background": "light"
     },
     "output_type": "display_data"
    }
   ],
   "source": [
    "plt.figure(figsize=(7,5))\n",
    "plt.hist(df['RunTime'])\n",
    "plt.show()"
   ]
  },
  {
   "cell_type": "code",
   "execution_count": 35,
   "id": "21b49f21",
   "metadata": {},
   "outputs": [
    {
     "name": "stderr",
     "output_type": "stream",
     "text": [
      "C:\\Users\\abodk222\\anaconda3\\lib\\site-packages\\seaborn\\distributions.py:2619: FutureWarning: `distplot` is a deprecated function and will be removed in a future version. Please adapt your code to use either `displot` (a figure-level function with similar flexibility) or `histplot` (an axes-level function for histograms).\n",
      "  warnings.warn(msg, FutureWarning)\n"
     ]
    },
    {
     "data": {
      "text/plain": [
       "<AxesSubplot:xlabel='RunTime', ylabel='Density'>"
      ]
     },
     "execution_count": 35,
     "metadata": {},
     "output_type": "execute_result"
    },
    {
     "data": {
      "image/png": "[encoded data removed]",
      "text/plain": [
       "<Figure size 432x288 with 1 Axes>"
      ]
     },
     "metadata": {
      "needs_background": "light"
     },
     "output_type": "display_data"
    }
   ],
   "source": [
    "sns.distplot(df['RunTime'])"
   ]
  },
  {
   "cell_type": "code",
   "execution_count": 36,
   "id": "e483d6f6",
   "metadata": {},
   "outputs": [
    {
     "data": {
      "image/png": "[encoded data removed]",
      "text/plain": [
       "<Figure size 504x360 with 1 Axes>"
      ]
     },
     "metadata": {
      "needs_background": "light"
     },
     "output_type": "display_data"
    }
   ],
   "source": [
    "plt.figure(figsize=(7,5))\n",
    "plt.hist(df['year_start'])\n",
    "plt.show()"
   ]
  },
  {
   "cell_type": "code",
   "execution_count": 37,
   "id": "39e2f31b",
   "metadata": {},
   "outputs": [],
   "source": [
    "qyearstart=df['year_start'].quantile(0.08)\n",
    "df=df[df['year_start']>qyearstart]"
   ]
  },
  {
   "cell_type": "code",
   "execution_count": 38,
   "id": "5fd5b20b",
   "metadata": {},
   "outputs": [
    {
     "data": {
      "image/png": "[encoded data removed]",
      "text/plain": [
       "<Figure size 504x360 with 1 Axes>"
      ]
     },
     "metadata": {
      "needs_background": "light"
     },
     "output_type": "display_data"
    }
   ],
   "source": [
    "plt.figure(figsize=(7,5))\n",
    "plt.hist(df['year_start'])\n",
    "plt.show()"
   ]
  },
  {
   "cell_type": "code",
   "execution_count": 39,
   "id": "87bad979",
   "metadata": {},
   "outputs": [
    {
     "name": "stderr",
     "output_type": "stream",
     "text": [
      "C:\\Users\\abodk222\\anaconda3\\lib\\site-packages\\seaborn\\distributions.py:2619: FutureWarning: `distplot` is a deprecated function and will be removed in a future version. Please adapt your code to use either `displot` (a figure-level function with similar flexibility) or `histplot` (an axes-level function for histograms).\n",
      "  warnings.warn(msg, FutureWarning)\n"
     ]
    },
    {
     "data": {
      "text/plain": [
       "<AxesSubplot:xlabel='year_start', ylabel='Density'>"
      ]
     },
     "execution_count": 39,
     "metadata": {},
     "output_type": "execute_result"
    },
    {
     "data": {
      "image/png": "[encoded data removed]",
      "text/plain": [
       "<Figure size 432x288 with 1 Axes>"
      ]
     },
     "metadata": {
      "needs_background": "light"
     },
     "output_type": "display_data"
    }
   ],
   "source": [
    "sns.distplot(df['year_start'])"
   ]
  },
  {
   "cell_type": "code",
   "execution_count": 40,
   "id": "3d9beeaa",
   "metadata": {},
   "outputs": [],
   "source": [
    "df=df.fillna(2023)"
   ]
  },
  {
   "cell_type": "code",
   "execution_count": 41,
   "id": "807ff747",
   "metadata": {},
   "outputs": [
    {
     "data": {
      "text/html": [
       "<div>\n",
       "<style scoped>\n",
       "    .dataframe tbody tr th:only-of-type {\n",
       "        vertical-align: middle;\n",
       "    }\n",
       "\n",
       "    .dataframe tbody tr th {\n",
       "        vertical-align: top;\n",
       "    }\n",
       "\n",
       "    .dataframe thead th {\n",
       "        text-align: right;\n",
       "    }\n",
       "</style>\n",
       "<table border=\"1\" class=\"dataframe\">\n",
       "  <thead>\n",
       "    <tr style=\"text-align: right;\">\n",
       "      <th></th>\n",
       "      <th>MOVIES</th>\n",
       "      <th>GENRE</th>\n",
       "      <th>RATING</th>\n",
       "      <th>ONE-LINE</th>\n",
       "      <th>STARS</th>\n",
       "      <th>VOTES</th>\n",
       "      <th>RunTime</th>\n",
       "      <th>year_start</th>\n",
       "      <th>year_end</th>\n",
       "    </tr>\n",
       "  </thead>\n",
       "  <tbody>\n",
       "    <tr>\n",
       "      <th>0</th>\n",
       "      <td>Blood Red Sky</td>\n",
       "      <td>Action, Horror, Thriller</td>\n",
       "      <td>6.1</td>\n",
       "      <td>A woman with a mysterious illness is forced in...</td>\n",
       "      <td>Director:Peter Thorwarth|     Stars:Peri B...</td>\n",
       "      <td>21062</td>\n",
       "      <td>121.0</td>\n",
       "      <td>2021</td>\n",
       "      <td>2023</td>\n",
       "    </tr>\n",
       "    <tr>\n",
       "      <th>1</th>\n",
       "      <td>Masters of the Universe: Revelation</td>\n",
       "      <td>Animation, Action, Adventure</td>\n",
       "      <td>5.0</td>\n",
       "      <td>The war for Eternia begins again in what may b...</td>\n",
       "      <td>Stars:Chris Wood, Sarah Michel...</td>\n",
       "      <td>17870</td>\n",
       "      <td>25.0</td>\n",
       "      <td>2021</td>\n",
       "      <td>2023</td>\n",
       "    </tr>\n",
       "    <tr>\n",
       "      <th>2</th>\n",
       "      <td>The Walking Dead</td>\n",
       "      <td>Drama, Horror, Thriller</td>\n",
       "      <td>8.2</td>\n",
       "      <td>Sheriff Deputy Rick Grimes wakes up from a com...</td>\n",
       "      <td>Stars:Andrew Lincoln, Norman R...</td>\n",
       "      <td>885805</td>\n",
       "      <td>44.0</td>\n",
       "      <td>2010</td>\n",
       "      <td>2022</td>\n",
       "    </tr>\n",
       "    <tr>\n",
       "      <th>3</th>\n",
       "      <td>Rick and Morty</td>\n",
       "      <td>Animation, Adventure, Comedy</td>\n",
       "      <td>9.2</td>\n",
       "      <td>An animated series that follows the exploits o...</td>\n",
       "      <td>Stars:Justin Roiland, Chris Pa...</td>\n",
       "      <td>414849</td>\n",
       "      <td>23.0</td>\n",
       "      <td>2013</td>\n",
       "      <td>2023</td>\n",
       "    </tr>\n",
       "    <tr>\n",
       "      <th>4</th>\n",
       "      <td>Outer Banks</td>\n",
       "      <td>Action, Crime, Drama</td>\n",
       "      <td>7.6</td>\n",
       "      <td>A group of teenagers from the wrong side of th...</td>\n",
       "      <td>Stars:Chase Stokes, Madelyn Cl...</td>\n",
       "      <td>25858</td>\n",
       "      <td>50.0</td>\n",
       "      <td>2020</td>\n",
       "      <td>2023</td>\n",
       "    </tr>\n",
       "    <tr>\n",
       "      <th>...</th>\n",
       "      <td>...</td>\n",
       "      <td>...</td>\n",
       "      <td>...</td>\n",
       "      <td>...</td>\n",
       "      <td>...</td>\n",
       "      <td>...</td>\n",
       "      <td>...</td>\n",
       "      <td>...</td>\n",
       "      <td>...</td>\n",
       "    </tr>\n",
       "    <tr>\n",
       "      <th>6519</th>\n",
       "      <td>Sexify</td>\n",
       "      <td>Comedy, Drama</td>\n",
       "      <td>6.8</td>\n",
       "      <td>Monika's idea for gathering data is a hit, but...</td>\n",
       "      <td>Director:Kalina Alabrudzinska|     Stars:A...</td>\n",
       "      <td>108</td>\n",
       "      <td>38.0</td>\n",
       "      <td>2021</td>\n",
       "      <td>2023</td>\n",
       "    </tr>\n",
       "    <tr>\n",
       "      <th>6520</th>\n",
       "      <td>Sexify</td>\n",
       "      <td>Comedy, Drama</td>\n",
       "      <td>7.1</td>\n",
       "      <td>After facing their parents at Easter breakfast...</td>\n",
       "      <td>Director:Kalina Alabrudzinska|     Stars:A...</td>\n",
       "      <td>103</td>\n",
       "      <td>37.0</td>\n",
       "      <td>2021</td>\n",
       "      <td>2023</td>\n",
       "    </tr>\n",
       "    <tr>\n",
       "      <th>6521</th>\n",
       "      <td>Sexify</td>\n",
       "      <td>Comedy, Drama</td>\n",
       "      <td>6.9</td>\n",
       "      <td>After getting an anonymous tip about the copul...</td>\n",
       "      <td>Director:Kalina Alabrudzinska|     Stars:A...</td>\n",
       "      <td>96</td>\n",
       "      <td>40.0</td>\n",
       "      <td>2021</td>\n",
       "      <td>2023</td>\n",
       "    </tr>\n",
       "    <tr>\n",
       "      <th>6522</th>\n",
       "      <td>Sexify</td>\n",
       "      <td>Comedy, Drama</td>\n",
       "      <td>7.1</td>\n",
       "      <td>The big pitch at the university tech competiti...</td>\n",
       "      <td>Director:Kalina Alabrudzinska|     Stars:A...</td>\n",
       "      <td>100</td>\n",
       "      <td>47.0</td>\n",
       "      <td>2021</td>\n",
       "      <td>2023</td>\n",
       "    </tr>\n",
       "    <tr>\n",
       "      <th>6523</th>\n",
       "      <td>Castlevania</td>\n",
       "      <td>Animation, Action, Adventure</td>\n",
       "      <td>8.2</td>\n",
       "      <td>Lenore urges Hector to not test Camilla's pati...</td>\n",
       "      <td>Director:Sam Deats|     Stars:Richard Armi...</td>\n",
       "      <td>911</td>\n",
       "      <td>24.0</td>\n",
       "      <td>2017</td>\n",
       "      <td>2021</td>\n",
       "    </tr>\n",
       "  </tbody>\n",
       "</table>\n",
       "<p>5668 rows × 9 columns</p>\n",
       "</div>"
      ],
      "text/plain": [
       "                                   MOVIES                         GENRE  \\\n",
       "0                           Blood Red Sky      Action, Horror, Thriller   \n",
       "1     Masters of the Universe: Revelation  Animation, Action, Adventure   \n",
       "2                        The Walking Dead       Drama, Horror, Thriller   \n",
       "3                          Rick and Morty  Animation, Adventure, Comedy   \n",
       "4                             Outer Banks          Action, Crime, Drama   \n",
       "...                                   ...                           ...   \n",
       "6519                               Sexify                 Comedy, Drama   \n",
       "6520                               Sexify                 Comedy, Drama   \n",
       "6521                               Sexify                 Comedy, Drama   \n",
       "6522                               Sexify                 Comedy, Drama   \n",
       "6523                          Castlevania  Animation, Action, Adventure   \n",
       "\n",
       "      RATING                                           ONE-LINE  \\\n",
       "0        6.1  A woman with a mysterious illness is forced in...   \n",
       "1        5.0  The war for Eternia begins again in what may b...   \n",
       "2        8.2  Sheriff Deputy Rick Grimes wakes up from a com...   \n",
       "3        9.2  An animated series that follows the exploits o...   \n",
       "4        7.6  A group of teenagers from the wrong side of th...   \n",
       "...      ...                                                ...   \n",
       "6519     6.8  Monika's idea for gathering data is a hit, but...   \n",
       "6520     7.1  After facing their parents at Easter breakfast...   \n",
       "6521     6.9  After getting an anonymous tip about the copul...   \n",
       "6522     7.1  The big pitch at the university tech competiti...   \n",
       "6523     8.2  Lenore urges Hector to not test Camilla's pati...   \n",
       "\n",
       "                                                  STARS   VOTES  RunTime  \\\n",
       "0         Director:Peter Thorwarth|     Stars:Peri B...   21062    121.0   \n",
       "1                     Stars:Chris Wood, Sarah Michel...   17870     25.0   \n",
       "2                     Stars:Andrew Lincoln, Norman R...  885805     44.0   \n",
       "3                     Stars:Justin Roiland, Chris Pa...  414849     23.0   \n",
       "4                     Stars:Chase Stokes, Madelyn Cl...   25858     50.0   \n",
       "...                                                 ...     ...      ...   \n",
       "6519      Director:Kalina Alabrudzinska|     Stars:A...     108     38.0   \n",
       "6520      Director:Kalina Alabrudzinska|     Stars:A...     103     37.0   \n",
       "6521      Director:Kalina Alabrudzinska|     Stars:A...      96     40.0   \n",
       "6522      Director:Kalina Alabrudzinska|     Stars:A...     100     47.0   \n",
       "6523      Director:Sam Deats|     Stars:Richard Armi...     911     24.0   \n",
       "\n",
       "      year_start year_end  \n",
       "0           2021     2023  \n",
       "1           2021     2023  \n",
       "2           2010     2022  \n",
       "3           2013     2023  \n",
       "4           2020     2023  \n",
       "...          ...      ...  \n",
       "6519        2021     2023  \n",
       "6520        2021     2023  \n",
       "6521        2021     2023  \n",
       "6522        2021     2023  \n",
       "6523        2017     2021  \n",
       "\n",
       "[5668 rows x 9 columns]"
      ]
     },
     "execution_count": 41,
     "metadata": {},
     "output_type": "execute_result"
    }
   ],
   "source": [
    "df"
   ]
  },
  {
   "cell_type": "code",
   "execution_count": 46,
   "id": "f4307844",
   "metadata": {},
   "outputs": [],
   "source": [
    "df.to_csv('MOVIES PREDICTION')"
   ]
  },
  {
   "cell_type": "code",
   "execution_count": 43,
   "id": "59f28115",
   "metadata": {},
   "outputs": [
    {
     "data": {
      "text/plain": [
       "MOVIES        0\n",
       "GENRE         0\n",
       "RATING        0\n",
       "ONE-LINE      0\n",
       "STARS         0\n",
       "VOTES         0\n",
       "RunTime       0\n",
       "year_start    0\n",
       "year_end      0\n",
       "dtype: int64"
      ]
     },
     "execution_count": 43,
     "metadata": {},
     "output_type": "execute_result"
    }
   ],
   "source": [
    "df.isnull().sum()"
   ]
  },
  {
   "cell_type": "code",
   "execution_count": 44,
   "id": "221d2f77",
   "metadata": {},
   "outputs": [
    {
     "data": {
      "text/html": [
       "<div>\n",
       "<style scoped>\n",
       "    .dataframe tbody tr th:only-of-type {\n",
       "        vertical-align: middle;\n",
       "    }\n",
       "\n",
       "    .dataframe tbody tr th {\n",
       "        vertical-align: top;\n",
       "    }\n",
       "\n",
       "    .dataframe thead th {\n",
       "        text-align: right;\n",
       "    }\n",
       "</style>\n",
       "<table border=\"1\" class=\"dataframe\">\n",
       "  <thead>\n",
       "    <tr style=\"text-align: right;\">\n",
       "      <th></th>\n",
       "      <th>MOVIES</th>\n",
       "      <th>GENRE</th>\n",
       "      <th>RATING</th>\n",
       "      <th>ONE-LINE</th>\n",
       "      <th>STARS</th>\n",
       "      <th>VOTES</th>\n",
       "      <th>RunTime</th>\n",
       "      <th>year_start</th>\n",
       "      <th>year_end</th>\n",
       "    </tr>\n",
       "  </thead>\n",
       "  <tbody>\n",
       "    <tr>\n",
       "      <th>6</th>\n",
       "      <td>Dexter</td>\n",
       "      <td>Crime, Drama, Mystery</td>\n",
       "      <td>8.6</td>\n",
       "      <td>By day, mild-mannered Dexter is a blood-spatte...</td>\n",
       "      <td>Stars:Michael C. Hall, Jennife...</td>\n",
       "      <td>665387</td>\n",
       "      <td>53.0</td>\n",
       "      <td>2006</td>\n",
       "      <td>2013</td>\n",
       "    </tr>\n",
       "  </tbody>\n",
       "</table>\n",
       "</div>"
      ],
      "text/plain": [
       "   MOVIES                  GENRE  RATING  \\\n",
       "6  Dexter  Crime, Drama, Mystery     8.6   \n",
       "\n",
       "                                            ONE-LINE  \\\n",
       "6  By day, mild-mannered Dexter is a blood-spatte...   \n",
       "\n",
       "                                               STARS   VOTES  RunTime  \\\n",
       "6                  Stars:Michael C. Hall, Jennife...  665387     53.0   \n",
       "\n",
       "   year_start year_end  \n",
       "6        2006     2013  "
      ]
     },
     "execution_count": 44,
     "metadata": {},
     "output_type": "execute_result"
    }
   ],
   "source": [
    "df.loc[df['MOVIES']=='Dexter']"
   ]
  },
  {
   "cell_type": "code",
   "execution_count": null,
   "id": "c1136aa6",
   "metadata": {},
   "outputs": [],
   "source": []
  }
 ],
 "metadata": {
  "kernelspec": {
   "display_name": "Python 3 (ipykernel)",
   "language": "python",
   "name": "python3"
  },
  "language_info": {
   "codemirror_mode": {
    "name": "ipython",
    "version": 3
   },
   "file_extension": ".py",
   "mimetype": "text/x-python",
   "name": "python",
   "nbconvert_exporter": "python",
   "pygments_lexer": "ipython3",
   "version": "3.9.7"
  }
 },
 "nbformat": 4,
 "nbformat_minor": 5
}
