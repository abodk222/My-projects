{
 "cells": [
  {
   "cell_type": "markdown",
   "metadata": {
    "id": "O2nqmYlZyBSA"
   },
   "source": [
    "# slicing Assignment"
   ]
  },
  {
   "cell_type": "markdown",
   "metadata": {},
   "source": [
    "# ABDELRAHMAN SHALABI ----------------  عبدالرحمن شلبي   "
   ]
  },
  {
   "cell_type": "markdown",
   "metadata": {
    "id": "LKQYe0CGvNB3"
   },
   "source": [
    "# If you have the list that contains paths of image files\n"
   ]
  },
  {
   "cell_type": "code",
   "execution_count": 1,
   "metadata": {
    "id": "ShfXH031sheP"
   },
   "outputs": [],
   "source": [
    "# list of imag\n",
    "list_paths = [\"C:/user/documnets/images/python/5.jpeg\", \n",
    "        \"C:/user/documnets/images/python/33.png\",\n",
    "        \"C:/user/documnets/images/python/3.jpeg\", \n",
    "        \"C:/user/documnets/images/python/48.png\", \n",
    "        \"C:/user/documnets/images/python/53.jpeg\", \n",
    "        \"C:/user/documnets/images/python/61.jpeg\", \n",
    "        \"C:/user/documnets/images/python/6.png\", \n",
    "        \"C:/user/documnets/images/python/74.jpeg\", \n",
    "        \"C:/user/documnets/images/python/8.jpeg\", \n",
    "        \"C:/user/documnets/images/python/19.jpeg\"]\n",
    "import re"
   ]
  },
  {
   "cell_type": "markdown",
   "metadata": {
    "id": "WMahNw7AvQSZ"
   },
   "source": [
    "# Q1- Select first five paths from a list"
   ]
  },
  {
   "cell_type": "code",
   "execution_count": 2,
   "metadata": {
    "id": "1gwdCAwjveRI"
   },
   "outputs": [
    {
     "data": {
      "text/plain": [
       "['C:/user/documnets/images/python/5.jpeg',\n",
       " 'C:/user/documnets/images/python/33.png',\n",
       " 'C:/user/documnets/images/python/3.jpeg',\n",
       " 'C:/user/documnets/images/python/48.png',\n",
       " 'C:/user/documnets/images/python/53.jpeg']"
      ]
     },
     "execution_count": 2,
     "metadata": {},
     "output_type": "execute_result"
    }
   ],
   "source": [
    "# Q1 solution :\n",
    "list_paths[:5]"
   ]
  },
  {
   "cell_type": "markdown",
   "metadata": {
    "id": "YSrVmrsKvfE_"
   },
   "source": [
    "#Q2- Select last 3 paths from the list"
   ]
  },
  {
   "cell_type": "code",
   "execution_count": 3,
   "metadata": {
    "id": "QZ7x8g3Bvfim"
   },
   "outputs": [
    {
     "data": {
      "text/plain": [
       "['C:/user/documnets/images/python/74.jpeg',\n",
       " 'C:/user/documnets/images/python/8.jpeg',\n",
       " 'C:/user/documnets/images/python/19.jpeg']"
      ]
     },
     "execution_count": 3,
     "metadata": {},
     "output_type": "execute_result"
    }
   ],
   "source": [
    "# Q2 solution : \n",
    "list_paths[-3:]"
   ]
  },
  {
   "cell_type": "markdown",
   "metadata": {
    "id": "PIq4Vb2zviDP"
   },
   "source": [
    "#Q3- Select the third path in a list and split it on '/'"
   ]
  },
  {
   "cell_type": "code",
   "execution_count": 4,
   "metadata": {
    "id": "HxVZuwQZvgSP"
   },
   "outputs": [
    {
     "data": {
      "text/plain": [
       "['C:', 'user', 'documnets', 'images', 'python', '48.png']"
      ]
     },
     "execution_count": 4,
     "metadata": {},
     "output_type": "execute_result"
    }
   ],
   "source": [
    "# Q3 solution :\n",
    "list_paths[3].split('/')"
   ]
  },
  {
   "cell_type": "markdown",
   "metadata": {
    "id": "l1r9sarNvigU"
   },
   "source": [
    "#Q4- In one line write a Python code to:\n",
    "\n",
    "1.  access to folder name 'images'\n",
    "2.  acess to file extension 'jpeg' or 'png'\n"
   ]
  },
  {
   "cell_type": "code",
   "execution_count": 5,
   "metadata": {
    "id": "SXYG0l4SvgXd"
   },
   "outputs": [
    {
     "data": {
      "text/plain": [
       "[['python', '5.jpeg'],\n",
       " ['python', '33.png'],\n",
       " ['python', '3.jpeg'],\n",
       " ['python', '48.png'],\n",
       " ['python', '53.jpeg'],\n",
       " ['python', '61.jpeg'],\n",
       " ['python', '6.png'],\n",
       " ['python', '74.jpeg'],\n",
       " ['python', '8.jpeg'],\n",
       " ['python', '19.jpeg']]"
      ]
     },
     "execution_count": 5,
     "metadata": {},
     "output_type": "execute_result"
    }
   ],
   "source": [
    "# Q4.1 solution :\n",
    "[list_paths[i].split('/')[-2:] for i in range(10)]"
   ]
  },
  {
   "cell_type": "code",
   "execution_count": 6,
   "metadata": {
    "id": "2Z3ajsswxkIP"
   },
   "outputs": [
    {
     "data": {
      "text/plain": [
       "[['5.jpeg'],\n",
       " ['33.png'],\n",
       " ['3.jpeg'],\n",
       " ['48.png'],\n",
       " ['53.jpeg'],\n",
       " ['61.jpeg'],\n",
       " ['6.png'],\n",
       " ['74.jpeg'],\n",
       " ['8.jpeg'],\n",
       " ['19.jpeg']]"
      ]
     },
     "execution_count": 6,
     "metadata": {},
     "output_type": "execute_result"
    }
   ],
   "source": [
    "# Q4.2 solution :\n",
    "[list_paths[i].split('/')[-1:] for i in range(10)]"
   ]
  },
  {
   "cell_type": "markdown",
   "metadata": {
    "id": "vDpRv7oqvjXG"
   },
   "source": [
    "#Q5- If you have two lists, loop on all paths in a list and add \"jpeg\" images in the first list and \"png\" images in the second list"
   ]
  },
  {
   "cell_type": "code",
   "execution_count": 7,
   "metadata": {
    "id": "0SZur5NSvgaH"
   },
   "outputs": [
    {
     "name": "stdout",
     "output_type": "stream",
     "text": [
      "The jpeg images are : \n",
      "\n",
      "['C:/user/documnets/images/python/5.jpeg', 'C:/user/documnets/images/python/3.jpeg', 'C:/user/documnets/images/python/53.jpeg', 'C:/user/documnets/images/python/61.jpeg', 'C:/user/documnets/images/python/74.jpeg', 'C:/user/documnets/images/python/8.jpeg', 'C:/user/documnets/images/python/19.jpeg']\n",
      "\n",
      "The png images are : \n",
      "\n",
      "['C:/user/documnets/images/python/33.png', 'C:/user/documnets/images/python/48.png', 'C:/user/documnets/images/python/6.png']\n"
     ]
    }
   ],
   "source": [
    "# Q5 solution : \n",
    "\n",
    "list_jpeg = []\n",
    "list_png = []\n",
    "for i in list_paths:\n",
    "    if re.search('jpeg$',i):\n",
    "        list_jpeg.append(i)\n",
    "    else:\n",
    "        list_png.append(i)\n",
    "print('The jpeg images are : ',end='\\n\\n')\n",
    "print(list_jpeg,end='\\n\\n')\n",
    "print('The png images are : ',end='\\n\\n')\n",
    "print(list_png)"
   ]
  },
  {
   "cell_type": "markdown",
   "metadata": {
    "id": "3YTU_sMOz9rW"
   },
   "source": [
    "**Challenge your self 🤩**"
   ]
  },
  {
   "cell_type": "markdown",
   "metadata": {
    "id": "ioGyoT9evj5b"
   },
   "source": [
    "# Q6- Create a new list that contains all images paths but in ascending order regardless of image type \n",
    "\n",
    "☕ **Take into consideration that the names of the images are a numbers**"
   ]
  },
  {
   "cell_type": "code",
   "execution_count": 8,
   "metadata": {
    "id": "sYV71wZlvgck"
   },
   "outputs": [
    {
     "data": {
      "text/plain": [
       "['C:/user/documnets/images/python/3.jpeg',\n",
       " 'C:/user/documnets/images/python/5.jpeg',\n",
       " 'C:/user/documnets/images/python/6.png',\n",
       " 'C:/user/documnets/images/python/8.jpeg',\n",
       " 'C:/user/documnets/images/python/19.jpeg',\n",
       " 'C:/user/documnets/images/python/33.png',\n",
       " 'C:/user/documnets/images/python/48.png',\n",
       " 'C:/user/documnets/images/python/53.jpeg',\n",
       " 'C:/user/documnets/images/python/61.jpeg',\n",
       " 'C:/user/documnets/images/python/74.jpeg']"
      ]
     },
     "execution_count": 8,
     "metadata": {},
     "output_type": "execute_result"
    }
   ],
   "source": [
    "# Q6 solution: \n",
    "def atoi(text):\n",
    "    return int(text) if text.isdigit() else text\n",
    "def natural_keys(text):\n",
    "    return [ atoi(i) for i in re.split('(\\d+)', text) ]\n",
    "new_list=list_paths\n",
    "new_list.sort(key=natural_keys)\n",
    "new_list"
   ]
  },
  {
   "cell_type": "code",
   "execution_count": null,
   "metadata": {
    "id": "FsJD5WaMvgfe"
   },
   "outputs": [],
   "source": []
  },
  {
   "cell_type": "code",
   "execution_count": null,
   "metadata": {},
   "outputs": [],
   "source": []
  },
  {
   "cell_type": "code",
   "execution_count": null,
   "metadata": {},
   "outputs": [],
   "source": []
  }
 ],
 "metadata": {
  "colab": {
   "authorship_tag": "ABX9TyNeIuynsI1VZr6U37OkXu2g",
   "provenance": []
  },
  "kernelspec": {
   "display_name": "Python 3 (ipykernel)",
   "language": "python",
   "name": "python3"
  },
  "language_info": {
   "codemirror_mode": {
    "name": "ipython",
    "version": 3
   },
   "file_extension": ".py",
   "mimetype": "text/x-python",
   "name": "python",
   "nbconvert_exporter": "python",
   "pygments_lexer": "ipython3",
   "version": "3.9.7"
  }
 },
 "nbformat": 4,
 "nbformat_minor": 1
}
