{
 "cells": [
  {
   "cell_type": "code",
   "execution_count": 1,
   "id": "507f9b3f-815b-4e3e-8d0f-a30fdb2cd102",
   "metadata": {},
   "outputs": [],
   "source": [
    "import numpy as np\n",
    "np.object = object\n",
    "np.int = int\n",
    "np.float = float\n",
    "np.bool = bool"
   ]
  },
  {
   "cell_type": "code",
   "execution_count": 2,
   "id": "1839f8fa-296d-425c-aa3e-bc001bc7ad48",
   "metadata": {},
   "outputs": [],
   "source": [
    "import tensorflow as tf\n",
    "import pandas as pd\n",
    "from sklearn import model_selection\n",
    "import re"
   ]
  },
  {
   "cell_type": "code",
   "execution_count": 3,
   "id": "40c5aa53-c6ad-4404-87f7-74536fd514ac",
   "metadata": {},
   "outputs": [],
   "source": [
    "df = pd.read_csv(r'D:\\archive_4\\q_quora.csv',low_memory=False)\n",
    "df.drop(df.iloc[:,6:],inplace=True,axis=1)"
   ]
  },
  {
   "cell_type": "code",
   "execution_count": 4,
   "id": "e4f81315-ed97-4c21-a847-c27eb3aaf588",
   "metadata": {},
   "outputs": [
    {
     "data": {
      "text/plain": [
       "id              0\n",
       "qid1            0\n",
       "qid2            0\n",
       "question1       1\n",
       "question2       2\n",
       "is_duplicate    0\n",
       "dtype: int64"
      ]
     },
     "execution_count": 4,
     "metadata": {},
     "output_type": "execute_result"
    }
   ],
   "source": [
    "df.isnull().sum()"
   ]
  },
  {
   "cell_type": "code",
   "execution_count": 5,
   "id": "add0fcab-1098-40db-9005-bba09e9a93d2",
   "metadata": {},
   "outputs": [],
   "source": [
    "df.dropna(axis=0,inplace=True)"
   ]
  },
  {
   "cell_type": "code",
   "execution_count": 6,
   "id": "d40a248a-91cc-4411-8a53-9a02bb88fb49",
   "metadata": {},
   "outputs": [
    {
     "data": {
      "text/plain": [
       "id              0\n",
       "qid1            0\n",
       "qid2            0\n",
       "question1       0\n",
       "question2       0\n",
       "is_duplicate    0\n",
       "dtype: int64"
      ]
     },
     "execution_count": 6,
     "metadata": {},
     "output_type": "execute_result"
    }
   ],
   "source": [
    "df.isnull().sum()"
   ]
  },
  {
   "cell_type": "code",
   "execution_count": 7,
   "id": "0b5368dc-d5aa-47ba-b2a0-c7d250951bfb",
   "metadata": {},
   "outputs": [
    {
     "data": {
      "text/html": [
       "<div>\n",
       "<style scoped>\n",
       "    .dataframe tbody tr th:only-of-type {\n",
       "        vertical-align: middle;\n",
       "    }\n",
       "\n",
       "    .dataframe tbody tr th {\n",
       "        vertical-align: top;\n",
       "    }\n",
       "\n",
       "    .dataframe thead th {\n",
       "        text-align: right;\n",
       "    }\n",
       "</style>\n",
       "<table border=\"1\" class=\"dataframe\">\n",
       "  <thead>\n",
       "    <tr style=\"text-align: right;\">\n",
       "      <th></th>\n",
       "      <th>id</th>\n",
       "      <th>qid1</th>\n",
       "      <th>qid2</th>\n",
       "      <th>question1</th>\n",
       "      <th>question2</th>\n",
       "      <th>is_duplicate</th>\n",
       "    </tr>\n",
       "  </thead>\n",
       "  <tbody>\n",
       "    <tr>\n",
       "      <th>0</th>\n",
       "      <td>0</td>\n",
       "      <td>1</td>\n",
       "      <td>2</td>\n",
       "      <td>What is the step by step guide to invest in sh...</td>\n",
       "      <td>What is the step by step guide to invest in sh...</td>\n",
       "      <td>0</td>\n",
       "    </tr>\n",
       "    <tr>\n",
       "      <th>1</th>\n",
       "      <td>1</td>\n",
       "      <td>3</td>\n",
       "      <td>4</td>\n",
       "      <td>What is the story of Kohinoor (Koh-i-Noor) Dia...</td>\n",
       "      <td>What would happen if the Indian government sto...</td>\n",
       "      <td>0</td>\n",
       "    </tr>\n",
       "    <tr>\n",
       "      <th>2</th>\n",
       "      <td>2</td>\n",
       "      <td>5</td>\n",
       "      <td>6</td>\n",
       "      <td>How can I increase the speed of my internet co...</td>\n",
       "      <td>How can Internet speed be increased by hacking...</td>\n",
       "      <td>0</td>\n",
       "    </tr>\n",
       "    <tr>\n",
       "      <th>3</th>\n",
       "      <td>3</td>\n",
       "      <td>7</td>\n",
       "      <td>8</td>\n",
       "      <td>Why am I mentally very lonely? How can I solve...</td>\n",
       "      <td>Find the remainder when [math]23^{24}[/math] i...</td>\n",
       "      <td>0</td>\n",
       "    </tr>\n",
       "    <tr>\n",
       "      <th>4</th>\n",
       "      <td>4</td>\n",
       "      <td>9</td>\n",
       "      <td>10</td>\n",
       "      <td>Which one dissolve in water quikly sugar, salt...</td>\n",
       "      <td>Which fish would survive in salt water?</td>\n",
       "      <td>0</td>\n",
       "    </tr>\n",
       "    <tr>\n",
       "      <th>...</th>\n",
       "      <td>...</td>\n",
       "      <td>...</td>\n",
       "      <td>...</td>\n",
       "      <td>...</td>\n",
       "      <td>...</td>\n",
       "      <td>...</td>\n",
       "    </tr>\n",
       "    <tr>\n",
       "      <th>404346</th>\n",
       "      <td>404346</td>\n",
       "      <td>789792</td>\n",
       "      <td>789793</td>\n",
       "      <td>How many keywords are there in the Racket prog...</td>\n",
       "      <td>How many keywords are there in PERL Programmin...</td>\n",
       "      <td>0</td>\n",
       "    </tr>\n",
       "    <tr>\n",
       "      <th>404347</th>\n",
       "      <td>404347</td>\n",
       "      <td>789794</td>\n",
       "      <td>789795</td>\n",
       "      <td>Do you believe there is life after death?</td>\n",
       "      <td>Is it true that there is life after death?</td>\n",
       "      <td>1</td>\n",
       "    </tr>\n",
       "    <tr>\n",
       "      <th>404348</th>\n",
       "      <td>404348</td>\n",
       "      <td>789796</td>\n",
       "      <td>789797</td>\n",
       "      <td>What is one coin?</td>\n",
       "      <td>What's this coin?</td>\n",
       "      <td>0</td>\n",
       "    </tr>\n",
       "    <tr>\n",
       "      <th>404349</th>\n",
       "      <td>404349</td>\n",
       "      <td>789798</td>\n",
       "      <td>789799</td>\n",
       "      <td>What is the approx annual cost of living while...</td>\n",
       "      <td>I am having little hairfall problem but I want...</td>\n",
       "      <td>0</td>\n",
       "    </tr>\n",
       "    <tr>\n",
       "      <th>404350</th>\n",
       "      <td>404350</td>\n",
       "      <td>789800</td>\n",
       "      <td>789801</td>\n",
       "      <td>What is like to have sex with cousin?</td>\n",
       "      <td>What is it like to have sex with your cousin?</td>\n",
       "      <td>0</td>\n",
       "    </tr>\n",
       "  </tbody>\n",
       "</table>\n",
       "<p>404348 rows × 6 columns</p>\n",
       "</div>"
      ],
      "text/plain": [
       "            id    qid1    qid2  \\\n",
       "0            0       1       2   \n",
       "1            1       3       4   \n",
       "2            2       5       6   \n",
       "3            3       7       8   \n",
       "4            4       9      10   \n",
       "...        ...     ...     ...   \n",
       "404346  404346  789792  789793   \n",
       "404347  404347  789794  789795   \n",
       "404348  404348  789796  789797   \n",
       "404349  404349  789798  789799   \n",
       "404350  404350  789800  789801   \n",
       "\n",
       "                                                question1  \\\n",
       "0       What is the step by step guide to invest in sh...   \n",
       "1       What is the story of Kohinoor (Koh-i-Noor) Dia...   \n",
       "2       How can I increase the speed of my internet co...   \n",
       "3       Why am I mentally very lonely? How can I solve...   \n",
       "4       Which one dissolve in water quikly sugar, salt...   \n",
       "...                                                   ...   \n",
       "404346  How many keywords are there in the Racket prog...   \n",
       "404347          Do you believe there is life after death?   \n",
       "404348                                  What is one coin?   \n",
       "404349  What is the approx annual cost of living while...   \n",
       "404350              What is like to have sex with cousin?   \n",
       "\n",
       "                                                question2 is_duplicate  \n",
       "0       What is the step by step guide to invest in sh...            0  \n",
       "1       What would happen if the Indian government sto...            0  \n",
       "2       How can Internet speed be increased by hacking...            0  \n",
       "3       Find the remainder when [math]23^{24}[/math] i...            0  \n",
       "4                 Which fish would survive in salt water?            0  \n",
       "...                                                   ...          ...  \n",
       "404346  How many keywords are there in PERL Programmin...            0  \n",
       "404347         Is it true that there is life after death?            1  \n",
       "404348                                  What's this coin?            0  \n",
       "404349  I am having little hairfall problem but I want...            0  \n",
       "404350      What is it like to have sex with your cousin?            0  \n",
       "\n",
       "[404348 rows x 6 columns]"
      ]
     },
     "execution_count": 7,
     "metadata": {},
     "output_type": "execute_result"
    }
   ],
   "source": [
    "df"
   ]
  },
  {
   "cell_type": "code",
   "execution_count": 8,
   "id": "68e9d9b4-aa6c-41a4-bb7c-d9f4f6c06e90",
   "metadata": {},
   "outputs": [],
   "source": [
    "df.drop(['id','qid1','qid2'],inplace=True,axis=1)"
   ]
  },
  {
   "cell_type": "code",
   "execution_count": 9,
   "id": "130562d9-bbb6-4787-addf-d8f1507cb5ee",
   "metadata": {},
   "outputs": [
    {
     "data": {
      "text/html": [
       "<div>\n",
       "<style scoped>\n",
       "    .dataframe tbody tr th:only-of-type {\n",
       "        vertical-align: middle;\n",
       "    }\n",
       "\n",
       "    .dataframe tbody tr th {\n",
       "        vertical-align: top;\n",
       "    }\n",
       "\n",
       "    .dataframe thead th {\n",
       "        text-align: right;\n",
       "    }\n",
       "</style>\n",
       "<table border=\"1\" class=\"dataframe\">\n",
       "  <thead>\n",
       "    <tr style=\"text-align: right;\">\n",
       "      <th></th>\n",
       "      <th>question1</th>\n",
       "      <th>question2</th>\n",
       "      <th>is_duplicate</th>\n",
       "    </tr>\n",
       "  </thead>\n",
       "  <tbody>\n",
       "    <tr>\n",
       "      <th>0</th>\n",
       "      <td>What is the step by step guide to invest in sh...</td>\n",
       "      <td>What is the step by step guide to invest in sh...</td>\n",
       "      <td>0</td>\n",
       "    </tr>\n",
       "    <tr>\n",
       "      <th>1</th>\n",
       "      <td>What is the story of Kohinoor (Koh-i-Noor) Dia...</td>\n",
       "      <td>What would happen if the Indian government sto...</td>\n",
       "      <td>0</td>\n",
       "    </tr>\n",
       "    <tr>\n",
       "      <th>2</th>\n",
       "      <td>How can I increase the speed of my internet co...</td>\n",
       "      <td>How can Internet speed be increased by hacking...</td>\n",
       "      <td>0</td>\n",
       "    </tr>\n",
       "    <tr>\n",
       "      <th>3</th>\n",
       "      <td>Why am I mentally very lonely? How can I solve...</td>\n",
       "      <td>Find the remainder when [math]23^{24}[/math] i...</td>\n",
       "      <td>0</td>\n",
       "    </tr>\n",
       "    <tr>\n",
       "      <th>4</th>\n",
       "      <td>Which one dissolve in water quikly sugar, salt...</td>\n",
       "      <td>Which fish would survive in salt water?</td>\n",
       "      <td>0</td>\n",
       "    </tr>\n",
       "    <tr>\n",
       "      <th>...</th>\n",
       "      <td>...</td>\n",
       "      <td>...</td>\n",
       "      <td>...</td>\n",
       "    </tr>\n",
       "    <tr>\n",
       "      <th>404346</th>\n",
       "      <td>How many keywords are there in the Racket prog...</td>\n",
       "      <td>How many keywords are there in PERL Programmin...</td>\n",
       "      <td>0</td>\n",
       "    </tr>\n",
       "    <tr>\n",
       "      <th>404347</th>\n",
       "      <td>Do you believe there is life after death?</td>\n",
       "      <td>Is it true that there is life after death?</td>\n",
       "      <td>1</td>\n",
       "    </tr>\n",
       "    <tr>\n",
       "      <th>404348</th>\n",
       "      <td>What is one coin?</td>\n",
       "      <td>What's this coin?</td>\n",
       "      <td>0</td>\n",
       "    </tr>\n",
       "    <tr>\n",
       "      <th>404349</th>\n",
       "      <td>What is the approx annual cost of living while...</td>\n",
       "      <td>I am having little hairfall problem but I want...</td>\n",
       "      <td>0</td>\n",
       "    </tr>\n",
       "    <tr>\n",
       "      <th>404350</th>\n",
       "      <td>What is like to have sex with cousin?</td>\n",
       "      <td>What is it like to have sex with your cousin?</td>\n",
       "      <td>0</td>\n",
       "    </tr>\n",
       "  </tbody>\n",
       "</table>\n",
       "<p>404348 rows × 3 columns</p>\n",
       "</div>"
      ],
      "text/plain": [
       "                                                question1  \\\n",
       "0       What is the step by step guide to invest in sh...   \n",
       "1       What is the story of Kohinoor (Koh-i-Noor) Dia...   \n",
       "2       How can I increase the speed of my internet co...   \n",
       "3       Why am I mentally very lonely? How can I solve...   \n",
       "4       Which one dissolve in water quikly sugar, salt...   \n",
       "...                                                   ...   \n",
       "404346  How many keywords are there in the Racket prog...   \n",
       "404347          Do you believe there is life after death?   \n",
       "404348                                  What is one coin?   \n",
       "404349  What is the approx annual cost of living while...   \n",
       "404350              What is like to have sex with cousin?   \n",
       "\n",
       "                                                question2 is_duplicate  \n",
       "0       What is the step by step guide to invest in sh...            0  \n",
       "1       What would happen if the Indian government sto...            0  \n",
       "2       How can Internet speed be increased by hacking...            0  \n",
       "3       Find the remainder when [math]23^{24}[/math] i...            0  \n",
       "4                 Which fish would survive in salt water?            0  \n",
       "...                                                   ...          ...  \n",
       "404346  How many keywords are there in PERL Programmin...            0  \n",
       "404347         Is it true that there is life after death?            1  \n",
       "404348                                  What's this coin?            0  \n",
       "404349  I am having little hairfall problem but I want...            0  \n",
       "404350      What is it like to have sex with your cousin?            0  \n",
       "\n",
       "[404348 rows x 3 columns]"
      ]
     },
     "execution_count": 9,
     "metadata": {},
     "output_type": "execute_result"
    }
   ],
   "source": [
    "df"
   ]
  },
  {
   "cell_type": "code",
   "execution_count": 10,
   "id": "ad98fcac-8a55-4823-a2ad-a37e88ffa23e",
   "metadata": {},
   "outputs": [],
   "source": [
    "def clean_text(text): #---------- defult cleaning function to use any time ...\n",
    "    text = text.lower()\n",
    "    text = re.sub('\\[.*?\\]',' ',text)\n",
    "    text = re.sub('https?://\\S+|www\\.\\.S+',' ',text)\n",
    "    text = re.sub('<.*?>+',' ',text)\n",
    "    text = re.sub('\\n',' ',text)\n",
    "    text = re.sub('[^\\w]',' ',text)\n",
    "    text = re.sub('\\w*\\d\\w*',' ',text)\n",
    "    return text\n",
    "\n",
    "\n",
    "def target_clean(text):\n",
    "    # Remove all characters and special cases except '0' and '1'\n",
    "    cleaned_text = re.sub(r'[^01]', '', text)\n",
    "    return cleaned_text\n",
    "\n",
    "df.question1 = df.question1.map(clean_text)\n",
    "df.question2 = df.question2.map(clean_text)\n",
    "df.is_duplicate = df.is_duplicate.map(target_clean)"
   ]
  },
  {
   "cell_type": "code",
   "execution_count": 11,
   "id": "bf5b4cb2-1fda-4f10-b21d-ad2ba643ca2f",
   "metadata": {},
   "outputs": [
    {
     "data": {
      "text/html": [
       "<div>\n",
       "<style scoped>\n",
       "    .dataframe tbody tr th:only-of-type {\n",
       "        vertical-align: middle;\n",
       "    }\n",
       "\n",
       "    .dataframe tbody tr th {\n",
       "        vertical-align: top;\n",
       "    }\n",
       "\n",
       "    .dataframe thead th {\n",
       "        text-align: right;\n",
       "    }\n",
       "</style>\n",
       "<table border=\"1\" class=\"dataframe\">\n",
       "  <thead>\n",
       "    <tr style=\"text-align: right;\">\n",
       "      <th></th>\n",
       "      <th>question1</th>\n",
       "      <th>question2</th>\n",
       "      <th>is_duplicate</th>\n",
       "    </tr>\n",
       "  </thead>\n",
       "  <tbody>\n",
       "    <tr>\n",
       "      <th>74</th>\n",
       "      <td>who is the richest gambler of all time and how...</td>\n",
       "      <td>who is the richest gambler of all time and how...</td>\n",
       "      <td>1</td>\n",
       "    </tr>\n",
       "    <tr>\n",
       "      <th>75</th>\n",
       "      <td>if i fire a bullet backward from an aircraft g...</td>\n",
       "      <td>will the bullet be going backwards</td>\n",
       "      <td></td>\n",
       "    </tr>\n",
       "  </tbody>\n",
       "</table>\n",
       "</div>"
      ],
      "text/plain": [
       "                                            question1  \\\n",
       "74  who is the richest gambler of all time and how...   \n",
       "75  if i fire a bullet backward from an aircraft g...   \n",
       "\n",
       "                                            question2 is_duplicate  \n",
       "74  who is the richest gambler of all time and how...            1  \n",
       "75                will the bullet be going backwards                "
      ]
     },
     "metadata": {},
     "output_type": "display_data"
    }
   ],
   "source": [
    "display(df.loc[74:75])"
   ]
  },
  {
   "cell_type": "code",
   "execution_count": 12,
   "id": "a8bab44e-6050-47b4-a874-727b733851a2",
   "metadata": {},
   "outputs": [],
   "source": [
    "df.drop(df[df['is_duplicate'] == ''].index,inplace=True)"
   ]
  },
  {
   "cell_type": "code",
   "execution_count": 13,
   "id": "28622593-5d3d-4d4f-9200-5e4148dfda09",
   "metadata": {},
   "outputs": [],
   "source": [
    "df.is_duplicate=pd.to_numeric(df.is_duplicate)"
   ]
  },
  {
   "cell_type": "code",
   "execution_count": 14,
   "id": "5e9f5328-89e9-4577-a869-881ceb9de49a",
   "metadata": {},
   "outputs": [
    {
     "name": "stdout",
     "output_type": "stream",
     "text": [
      "<class 'pandas.core.frame.DataFrame'>\n",
      "Index: 404041 entries, 0 to 404350\n",
      "Data columns (total 3 columns):\n",
      " #   Column        Non-Null Count   Dtype \n",
      "---  ------        --------------   ----- \n",
      " 0   question1     404041 non-null  object\n",
      " 1   question2     404041 non-null  object\n",
      " 2   is_duplicate  404041 non-null  int64 \n",
      "dtypes: int64(1), object(2)\n",
      "memory usage: 12.3+ MB\n"
     ]
    }
   ],
   "source": [
    "df.info()"
   ]
  },
  {
   "cell_type": "code",
   "execution_count": 15,
   "id": "a6ab2317-9b5e-44c0-8176-a2ed4912e375",
   "metadata": {},
   "outputs": [],
   "source": [
    "df = pd.concat([\n",
    "    df[df['is_duplicate'] == 1],\n",
    "df[df['is_duplicate'] == 0].iloc[:149283]\n",
    "])"
   ]
  },
  {
   "cell_type": "code",
   "execution_count": 16,
   "id": "b61771ae-49d8-48a1-9232-7e06445ec140",
   "metadata": {},
   "outputs": [
    {
     "data": {
      "text/plain": [
       "array([[<Axes: title={'center': 'is_duplicate'}>]], dtype=object)"
      ]
     },
     "execution_count": 16,
     "metadata": {},
     "output_type": "execute_result"
    },
    {
     "data": {
      "image/png": "[encoded data removed]",
      "text/plain": [
       "<Figure size 640x480 with 1 Axes>"
      ]
     },
     "metadata": {},
     "output_type": "display_data"
    }
   ],
   "source": [
    "df.hist()"
   ]
  },
  {
   "cell_type": "code",
   "execution_count": 17,
   "id": "702ecb5a-71bf-4224-863a-ea90e234ef23",
   "metadata": {},
   "outputs": [
    {
     "data": {
      "text/html": [
       "<div>\n",
       "<style scoped>\n",
       "    .dataframe tbody tr th:only-of-type {\n",
       "        vertical-align: middle;\n",
       "    }\n",
       "\n",
       "    .dataframe tbody tr th {\n",
       "        vertical-align: top;\n",
       "    }\n",
       "\n",
       "    .dataframe thead th {\n",
       "        text-align: right;\n",
       "    }\n",
       "</style>\n",
       "<table border=\"1\" class=\"dataframe\">\n",
       "  <thead>\n",
       "    <tr style=\"text-align: right;\">\n",
       "      <th></th>\n",
       "      <th>question1</th>\n",
       "      <th>question2</th>\n",
       "      <th>is_duplicate</th>\n",
       "    </tr>\n",
       "  </thead>\n",
       "  <tbody>\n",
       "    <tr>\n",
       "      <th>5</th>\n",
       "      <td>astrology  i am a capricorn sun cap moon and c...</td>\n",
       "      <td>i m a triple capricorn  sun  moon and ascendan...</td>\n",
       "      <td>1</td>\n",
       "    </tr>\n",
       "    <tr>\n",
       "      <th>7</th>\n",
       "      <td>how can i be a good geologist</td>\n",
       "      <td>what should i do to be a great geologist</td>\n",
       "      <td>1</td>\n",
       "    </tr>\n",
       "    <tr>\n",
       "      <th>11</th>\n",
       "      <td>how do i read and find my youtube comments</td>\n",
       "      <td>how can i see all my youtube comments</td>\n",
       "      <td>1</td>\n",
       "    </tr>\n",
       "    <tr>\n",
       "      <th>12</th>\n",
       "      <td>what can make physics easy to learn</td>\n",
       "      <td>how can you make physics easy to learn</td>\n",
       "      <td>1</td>\n",
       "    </tr>\n",
       "    <tr>\n",
       "      <th>13</th>\n",
       "      <td>what was your first sexual experience like</td>\n",
       "      <td>what was your first sexual experience</td>\n",
       "      <td>1</td>\n",
       "    </tr>\n",
       "    <tr>\n",
       "      <th>...</th>\n",
       "      <td>...</td>\n",
       "      <td>...</td>\n",
       "      <td>...</td>\n",
       "    </tr>\n",
       "    <tr>\n",
       "      <th>404341</th>\n",
       "      <td>what are some outfit ideas to wear to a frat p...</td>\n",
       "      <td>what are some outfit ideas wear to a frat them...</td>\n",
       "      <td>1</td>\n",
       "    </tr>\n",
       "    <tr>\n",
       "      <th>404342</th>\n",
       "      <td>why is manaphy childish in pokémon ranger and ...</td>\n",
       "      <td>why is manaphy annoying in pokemon ranger and ...</td>\n",
       "      <td>1</td>\n",
       "    </tr>\n",
       "    <tr>\n",
       "      <th>404343</th>\n",
       "      <td>how does a long distance relationship work</td>\n",
       "      <td>how are long distance relationships maintained</td>\n",
       "      <td>1</td>\n",
       "    </tr>\n",
       "    <tr>\n",
       "      <th>404345</th>\n",
       "      <td>what does jainism say about homosexuality</td>\n",
       "      <td>what does jainism say about gays and homosexua...</td>\n",
       "      <td>1</td>\n",
       "    </tr>\n",
       "    <tr>\n",
       "      <th>404347</th>\n",
       "      <td>do you believe there is life after death</td>\n",
       "      <td>is it true that there is life after death</td>\n",
       "      <td>1</td>\n",
       "    </tr>\n",
       "  </tbody>\n",
       "</table>\n",
       "<p>149283 rows × 3 columns</p>\n",
       "</div>"
      ],
      "text/plain": [
       "                                                question1  \\\n",
       "5       astrology  i am a capricorn sun cap moon and c...   \n",
       "7                          how can i be a good geologist    \n",
       "11            how do i read and find my youtube comments    \n",
       "12                   what can make physics easy to learn    \n",
       "13            what was your first sexual experience like    \n",
       "...                                                   ...   \n",
       "404341  what are some outfit ideas to wear to a frat p...   \n",
       "404342  why is manaphy childish in pokémon ranger and ...   \n",
       "404343        how does a long distance relationship work    \n",
       "404345         what does jainism say about homosexuality    \n",
       "404347          do you believe there is life after death    \n",
       "\n",
       "                                                question2  is_duplicate  \n",
       "5       i m a triple capricorn  sun  moon and ascendan...             1  \n",
       "7               what should i do to be a great geologist              1  \n",
       "11                 how can i see all my youtube comments              1  \n",
       "12                how can you make physics easy to learn              1  \n",
       "13                 what was your first sexual experience              1  \n",
       "...                                                   ...           ...  \n",
       "404341  what are some outfit ideas wear to a frat them...             1  \n",
       "404342  why is manaphy annoying in pokemon ranger and ...             1  \n",
       "404343    how are long distance relationships maintained              1  \n",
       "404345  what does jainism say about gays and homosexua...             1  \n",
       "404347         is it true that there is life after death              1  \n",
       "\n",
       "[149283 rows x 3 columns]"
      ]
     },
     "execution_count": 17,
     "metadata": {},
     "output_type": "execute_result"
    }
   ],
   "source": [
    "df[df['is_duplicate'] == 1]"
   ]
  },
  {
   "cell_type": "code",
   "execution_count": 18,
   "id": "5bcf51a8-e4ca-49b4-99a5-905746791526",
   "metadata": {},
   "outputs": [
    {
     "data": {
      "text/html": [
       "<div>\n",
       "<style scoped>\n",
       "    .dataframe tbody tr th:only-of-type {\n",
       "        vertical-align: middle;\n",
       "    }\n",
       "\n",
       "    .dataframe tbody tr th {\n",
       "        vertical-align: top;\n",
       "    }\n",
       "\n",
       "    .dataframe thead th {\n",
       "        text-align: right;\n",
       "    }\n",
       "</style>\n",
       "<table border=\"1\" class=\"dataframe\">\n",
       "  <thead>\n",
       "    <tr style=\"text-align: right;\">\n",
       "      <th></th>\n",
       "      <th>question1</th>\n",
       "      <th>question2</th>\n",
       "      <th>is_duplicate</th>\n",
       "    </tr>\n",
       "  </thead>\n",
       "  <tbody>\n",
       "    <tr>\n",
       "      <th>0</th>\n",
       "      <td>what is the step by step guide to invest in sh...</td>\n",
       "      <td>what is the step by step guide to invest in sh...</td>\n",
       "      <td>0</td>\n",
       "    </tr>\n",
       "    <tr>\n",
       "      <th>1</th>\n",
       "      <td>what is the story of kohinoor  koh i noor  dia...</td>\n",
       "      <td>what would happen if the indian government sto...</td>\n",
       "      <td>0</td>\n",
       "    </tr>\n",
       "    <tr>\n",
       "      <th>2</th>\n",
       "      <td>how can i increase the speed of my internet co...</td>\n",
       "      <td>how can internet speed be increased by hacking...</td>\n",
       "      <td>0</td>\n",
       "    </tr>\n",
       "    <tr>\n",
       "      <th>3</th>\n",
       "      <td>why am i mentally very lonely  how can i solve...</td>\n",
       "      <td>find the remainder when         is divided by ...</td>\n",
       "      <td>0</td>\n",
       "    </tr>\n",
       "    <tr>\n",
       "      <th>4</th>\n",
       "      <td>which one dissolve in water quikly sugar  salt...</td>\n",
       "      <td>which fish would survive in salt water</td>\n",
       "      <td>0</td>\n",
       "    </tr>\n",
       "    <tr>\n",
       "      <th>...</th>\n",
       "      <td>...</td>\n",
       "      <td>...</td>\n",
       "      <td>...</td>\n",
       "    </tr>\n",
       "    <tr>\n",
       "      <th>238028</th>\n",
       "      <td>how is mtnl mumbai ftth   mbps internet connec...</td>\n",
       "      <td>is   mbps fast internet</td>\n",
       "      <td>0</td>\n",
       "    </tr>\n",
       "    <tr>\n",
       "      <th>238030</th>\n",
       "      <td>can someone s civil liberties be taken away fr...</td>\n",
       "      <td>does the united kingdom have a violent crime r...</td>\n",
       "      <td>0</td>\n",
       "    </tr>\n",
       "    <tr>\n",
       "      <th>238031</th>\n",
       "      <td>i am planning to buy my first car  not a luxur...</td>\n",
       "      <td>i am buying a car for the first time  my budge...</td>\n",
       "      <td>0</td>\n",
       "    </tr>\n",
       "    <tr>\n",
       "      <th>238032</th>\n",
       "      <td>what is a common fantasy thing other than magi...</td>\n",
       "      <td>what are things that are only possible in a fa...</td>\n",
       "      <td>0</td>\n",
       "    </tr>\n",
       "    <tr>\n",
       "      <th>238038</th>\n",
       "      <td>kg of sand is equal to how many cubic meter</td>\n",
       "      <td>what is the quantity of cement  steel  sand an...</td>\n",
       "      <td>0</td>\n",
       "    </tr>\n",
       "  </tbody>\n",
       "</table>\n",
       "<p>149283 rows × 3 columns</p>\n",
       "</div>"
      ],
      "text/plain": [
       "                                                question1  \\\n",
       "0       what is the step by step guide to invest in sh...   \n",
       "1       what is the story of kohinoor  koh i noor  dia...   \n",
       "2       how can i increase the speed of my internet co...   \n",
       "3       why am i mentally very lonely  how can i solve...   \n",
       "4       which one dissolve in water quikly sugar  salt...   \n",
       "...                                                   ...   \n",
       "238028  how is mtnl mumbai ftth   mbps internet connec...   \n",
       "238030  can someone s civil liberties be taken away fr...   \n",
       "238031  i am planning to buy my first car  not a luxur...   \n",
       "238032  what is a common fantasy thing other than magi...   \n",
       "238038       kg of sand is equal to how many cubic meter    \n",
       "\n",
       "                                                question2  is_duplicate  \n",
       "0       what is the step by step guide to invest in sh...             0  \n",
       "1       what would happen if the indian government sto...             0  \n",
       "2       how can internet speed be increased by hacking...             0  \n",
       "3       find the remainder when         is divided by ...             0  \n",
       "4                 which fish would survive in salt water              0  \n",
       "...                                                   ...           ...  \n",
       "238028                           is   mbps fast internet              0  \n",
       "238030  does the united kingdom have a violent crime r...             0  \n",
       "238031  i am buying a car for the first time  my budge...             0  \n",
       "238032  what are things that are only possible in a fa...             0  \n",
       "238038  what is the quantity of cement  steel  sand an...             0  \n",
       "\n",
       "[149283 rows x 3 columns]"
      ]
     },
     "execution_count": 18,
     "metadata": {},
     "output_type": "execute_result"
    }
   ],
   "source": [
    "df[df['is_duplicate'] == 0]"
   ]
  },
  {
   "cell_type": "markdown",
   "id": "e55fbdcf-3b1b-4cb7-8884-5b1ba45b9118",
   "metadata": {},
   "source": [
    "x=df[['question1','question2']]\n",
    "y=df[['is_duplicate']]"
   ]
  },
  {
   "cell_type": "code",
   "execution_count": 19,
   "id": "5c7adaad-dbb4-4441-aa23-12213fff3273",
   "metadata": {},
   "outputs": [
    {
     "data": {
      "text/plain": [
       "((268709, 3), (29857, 3))"
      ]
     },
     "execution_count": 19,
     "metadata": {},
     "output_type": "execute_result"
    }
   ],
   "source": [
    "train, test = model_selection.train_test_split(df, \n",
    "            test_size = 0.1, random_state=42, stratify=df.is_duplicate) \n",
    "\n",
    "train.shape, test.shape"
   ]
  },
  {
   "cell_type": "code",
   "execution_count": 20,
   "id": "f31d3d05-a36d-4475-9a72-d01422ef7754",
   "metadata": {},
   "outputs": [],
   "source": [
    "voc_size=10000\n",
    "tokenizer = tf.keras.preprocessing.text.Tokenizer(\n",
    "    num_words=voc_size,\n",
    "filters='!\"#$%&()*+,-./:;=?@[\\]^_`{|}~\\t\\n', oov_token='')\n",
    "tokenizer.fit_on_texts(df.question1)"
   ]
  },
  {
   "cell_type": "code",
   "execution_count": 21,
   "id": "27986582-538a-4f52-9549-b05c2a09b7c3",
   "metadata": {},
   "outputs": [],
   "source": [
    "def tokenize(tokenizer,text):\n",
    "    tensor = tokenizer.texts_to_sequences(text)\n",
    "    tensor = tf.keras.preprocessing.sequence.pad_sequences(tensor, padding='post',maxlen=200,truncating='post')\n",
    "    return tensor"
   ]
  },
  {
   "cell_type": "code",
   "execution_count": 22,
   "id": "e3d34904-19cf-4758-b631-134564dbe1c9",
   "metadata": {},
   "outputs": [],
   "source": [
    "train_question1_tensor = tokenize(tokenizer,train.question1)\n",
    "train_question2_tensor = tokenize(tokenizer,train.question2)\n",
    "\n",
    "y_train = train.is_duplicate\n",
    "\n",
    "test_question1_tensor = tokenize(tokenizer,test.question1)\n",
    "test_question2_tensor = tokenize(tokenizer,test.question2)\n",
    "\n",
    "y_test = test.is_duplicate"
   ]
  },
  {
   "cell_type": "code",
   "execution_count": 23,
   "id": "9f7ffa90-3e6f-41c2-9ef1-04e51b787497",
   "metadata": {},
   "outputs": [],
   "source": [
    "def create_dataset(x1,x2, y):\n",
    "    \n",
    "    data = tf.data.Dataset.from_tensor_slices(((x1,x2), y))\n",
    "\n",
    "    data = data.shuffle(1028)\n",
    "    data = data.batch(32, drop_remainder=True)\n",
    "\n",
    "    data = data.prefetch(tf.data.experimental.AUTOTUNE)\n",
    "\n",
    "    return data\n",
    "\n",
    "train_dataset = create_dataset(train_question1_tensor,train_question2_tensor, y_train)\n",
    "test_dataset = create_dataset(test_question1_tensor,test_question2_tensor, y_test)"
   ]
  },
  {
   "cell_type": "code",
   "execution_count": 24,
   "id": "3cee7bea-a577-4889-8323-c9f49dedc665",
   "metadata": {},
   "outputs": [
    {
     "name": "stdout",
     "output_type": "stream",
     "text": [
      "Model: \"model\"\n",
      "__________________________________________________________________________________________________\n",
      "Layer (type)                    Output Shape         Param #     Connected to                     \n",
      "==================================================================================================\n",
      "input_1 (InputLayer)            [(None, 300)]        0                                            \n",
      "__________________________________________________________________________________________________\n",
      "embedding (Embedding)           (None, 300, 128)     1280128     input_1[0][0]                    \n",
      "                                                                 input_1[0][0]                    \n",
      "__________________________________________________________________________________________________\n",
      "bidirectional (Bidirectional)   [(None, 128), (None, 74496       embedding[0][0]                  \n",
      "                                                                 embedding[1][0]                  \n",
      "                                                                 bidirectional[0][1]              \n",
      "                                                                 bidirectional[0][2]              \n",
      "__________________________________________________________________________________________________\n",
      "concatenate (Concatenate)       (None, 256)          0           bidirectional[0][0]              \n",
      "                                                                 bidirectional[1][0]              \n",
      "__________________________________________________________________________________________________\n",
      "dense (Dense)                   (None, 256)          65792       concatenate[0][0]                \n",
      "__________________________________________________________________________________________________\n",
      "dropout (Dropout)               (None, 256)          0           dense[0][0]                      \n",
      "__________________________________________________________________________________________________\n",
      "dense_1 (Dense)                 (None, 1)            257         dropout[0][0]                    \n",
      "==================================================================================================\n",
      "Total params: 1,420,673\n",
      "Trainable params: 1,420,673\n",
      "Non-trainable params: 0\n",
      "__________________________________________________________________________________________________\n"
     ]
    }
   ],
   "source": [
    "class SiameseModel(tf.keras.Model):\n",
    "  def __init__(self):\n",
    "      super(SiameseModel, self).__init__()\n",
    "\n",
    "      self.em = tf.keras.layers.Embedding(input_dim=voc_size+1, output_dim=128, input_length=200, mask_zero=True)\n",
    "      self.gru = tf.keras.layers.Bidirectional(tf.keras.layers.GRU(units=64, return_sequences=False, return_state=True))\n",
    "      self.d1 = tf.keras.layers.Dense(256, activation='leaky_relu', kernel_initializer=tf.initializers.he_uniform())\n",
    "      self.dropout = tf.keras.layers.Dropout(0.3)\n",
    "      self.out = tf.keras.layers.Dense(units=1, activation=tf.nn.sigmoid)\n",
    "\n",
    "  def call(self, inputs):\n",
    "    x1 = inputs[0]\n",
    "    x2 = inputs[1]\n",
    "    x1 = self.em(x1)\n",
    "    x2 = self.em(x2)\n",
    "    x1, hidden_1, hidden_2 = self.gru(x1)\n",
    "    x2, _, _ = self.gru(x2, [hidden_1, hidden_2])\n",
    "    x = tf.keras.layers.concatenate([x1, x2])\n",
    "    x = self.d1(x)\n",
    "    x = self.dropout(x)\n",
    "    output = self.out(x)\n",
    "    return output\n",
    "\n",
    "  def build_model(self):\n",
    "    x = tf.keras.layers.Input(shape=(300,))\n",
    "    return tf.keras.Model(inputs=x, outputs=self.call((x,x)))\n",
    "\n",
    "\n",
    "model = SiameseModel()\n",
    "model.build_model().summary()"
   ]
  },
  {
   "cell_type": "code",
   "execution_count": 25,
   "id": "c27353a2-0b77-4a31-9f39-8827e97eadfb",
   "metadata": {},
   "outputs": [
    {
     "name": "stdout",
     "output_type": "stream",
     "text": [
      "('You must install pydot (`pip install pydot`) and install graphviz (see instructions at https://graphviz.gitlab.io/download/) ', 'for plot_model/model_to_dot to work.')\n"
     ]
    }
   ],
   "source": [
    "tf.keras.utils.plot_model(model.build_model())"
   ]
  },
  {
   "cell_type": "code",
   "execution_count": 26,
   "id": "c9d713ed-190d-41be-b78f-71d77e849fc8",
   "metadata": {},
   "outputs": [
    {
     "name": "stdout",
     "output_type": "stream",
     "text": [
      "Epoch 1/5\n",
      "8397/8397 [==============================] - 230s 25ms/step - loss: 0.4996 - acc: 0.7544 - val_loss: 0.4490 - val_acc: 0.7897\n",
      "Epoch 2/5\n",
      "8397/8397 [==============================] - 197s 23ms/step - loss: 0.3937 - acc: 0.8219 - val_loss: 0.4442 - val_acc: 0.7960\n",
      "Epoch 3/5\n",
      "8397/8397 [==============================] - 199s 24ms/step - loss: 0.3152 - acc: 0.8655 - val_loss: 0.4867 - val_acc: 0.7989\n",
      "Epoch 4/5\n",
      "8397/8397 [==============================] - 198s 24ms/step - loss: 0.2502 - acc: 0.8972 - val_loss: 0.5632 - val_acc: 0.7938\n",
      "Epoch 5/5\n",
      "8397/8397 [==============================] - 200s 24ms/step - loss: 0.1993 - acc: 0.9210 - val_loss: 0.6415 - val_acc: 0.7892\n"
     ]
    },
    {
     "data": {
      "text/plain": [
       "<keras.callbacks.History at 0x14695036040>"
      ]
     },
     "execution_count": 26,
     "metadata": {},
     "output_type": "execute_result"
    }
   ],
   "source": [
    "model.compile('adam', \n",
    "              loss='binary_crossentropy', \n",
    "              metrics=['acc'])\n",
    "model.fit(train_dataset, epochs=5, validation_data=test_dataset)"
   ]
  },
  {
   "cell_type": "code",
   "execution_count": null,
   "id": "dfd157a1-f58e-4db0-8277-5bc7643582f4",
   "metadata": {},
   "outputs": [],
   "source": [
    "# make predictions on the test data\n",
    "pred=model((test_question1_tensor,test_question2_tensor))\n",
    "pred_list=[]\n",
    "# convert the predictions to binary \n",
    "for i in pred.numpy():\n",
    "    if i>0.7:\n",
    "        pred_list.append(1)\n",
    "    else :\n",
    "        pred_list.append(0)\n",
    "\n",
    "pred_list\n",
    "# pred_array=np.array(pred_list)"
   ]
  },
  {
   "cell_type": "code",
   "execution_count": null,
   "id": "2b7b3ccc-dab5-4d36-b62e-4dda1fa729b1",
   "metadata": {},
   "outputs": [],
   "source": []
  },
  {
   "cell_type": "code",
   "execution_count": null,
   "id": "5c3cc60a-8aec-4de6-ba38-173fe6646c53",
   "metadata": {},
   "outputs": [],
   "source": []
  }
 ],
 "metadata": {
  "kernelspec": {
   "display_name": "Python 3 (ipykernel)",
   "language": "python",
   "name": "python3"
  },
  "language_info": {
   "codemirror_mode": {
    "name": "ipython",
    "version": 3
   },
   "file_extension": ".py",
   "mimetype": "text/x-python",
   "name": "python",
   "nbconvert_exporter": "python",
   "pygments_lexer": "ipython3",
   "version": "3.11.7"
  }
 },
 "nbformat": 4,
 "nbformat_minor": 5
}
